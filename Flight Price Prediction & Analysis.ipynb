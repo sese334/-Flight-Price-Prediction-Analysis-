{
  "cells": [
    {
      "cell_type": "markdown",
      "metadata": {
        "id": "UX_nenE0n4sj"
      },
      "source": [
        "## Step 1: Retrieve Data and Check Data Types\n",
        "\n",
        "\n"
      ]
    },
    {
      "cell_type": "markdown",
      "source": [
        "### Import Required Libraries\n",
        "\n",
        "This code imports essential libraries for data analysis, visualization, preprocessing, and predictive modeling.  \n",
        "Libraries include Pandas for data handling, NumPy for numerical computations, and scikit-learn and XGBoost for modeling.  "
      ],
      "metadata": {
        "id": "RZxnG9y5PtyE"
      }
    },
    {
      "cell_type": "code",
      "execution_count": null,
      "metadata": {
        "id": "el0G_BCgNy24"
      },
      "outputs": [],
      "source": [
        "import pandas as pd\n",
        "import matplotlib.pyplot as plt\n",
        "import seaborn as sns\n",
        "import numpy as np\n",
        "from sklearn.preprocessing import OneHotEncoder, LabelEncoder\n",
        "from sklearn.decomposition import PCA\n",
        "from sklearn.model_selection import train_test_split\n",
        "from sklearn.linear_model import LinearRegression\n",
        "from sklearn.tree import DecisionTreeRegressor\n",
        "from sklearn.ensemble import RandomForestRegressor\n",
        "from xgboost import XGBRegressor\n",
        "from sklearn.metrics import mean_absolute_error, mean_squared_error, r2_score\n",
        "from sklearn.preprocessing import StandardScaler"
      ]
    },
    {
      "cell_type": "markdown",
      "metadata": {
        "id": "D7U1Q3omIMS2"
      },
      "source": [
        "### Load and Explore Flight Price Data\n",
        "This section reads the CSV file containing flight price data for Bangladesh and displays the first five rows for an overview.  \n",
        "It also uses `.info()` to show data types and detect any missing values.  \n"
      ]
    },
    {
      "cell_type": "code",
      "execution_count": null,
      "metadata": {
        "id": "EHy63JXLSSoG"
      },
      "outputs": [],
      "source": [
        "flight_f = pd.read_csv('Flight_Price_Dataset_of_Bangladesh.csv')"
      ]
    },
    {
      "cell_type": "code",
      "execution_count": null,
      "metadata": {
        "colab": {
          "base_uri": "https://localhost:8080/",
          "height": 293
        },
        "id": "G2iYkK4QWraM",
        "outputId": "f41b1057-44e4-471c-f54f-10fe210275b1"
      },
      "outputs": [
        {
          "output_type": "execute_result",
          "data": {
            "text/plain": [
              "              Airline Source                           Source Name  \\\n",
              "0  Malaysian Airlines    CXB                   Cox's Bazar Airport   \n",
              "1      Cathay Pacific    BZL                       Barisal Airport   \n",
              "2     British Airways    ZYL  Osmani International Airport, Sylhet   \n",
              "3  Singapore Airlines    RJH        Shah Makhdum Airport, Rajshahi   \n",
              "4     British Airways    SPD                       Saidpur Airport   \n",
              "\n",
              "  Destination                                   Destination Name  \\\n",
              "0         CCU  Netaji Subhas Chandra Bose International Airpo...   \n",
              "1         CGP      Shah Amanat International Airport, Chittagong   \n",
              "2         KUL                 Kuala Lumpur International Airport   \n",
              "3         DAC      Hazrat Shahjalal International Airport, Dhaka   \n",
              "4         YYZ              Toronto Pearson International Airport   \n",
              "\n",
              "  Departure Date & Time  Arrival Date & Time  Duration (hrs) Stopovers  \\\n",
              "0   2025-11-17 06:25:00  2025-11-17 07:38:10        1.219526    Direct   \n",
              "1   2025-03-16 00:17:00  2025-03-16 00:53:31        0.608638    Direct   \n",
              "2   2025-12-13 12:03:00  2025-12-13 14:44:22        2.689651    1 Stop   \n",
              "3   2025-05-30 03:21:00  2025-05-30 04:02:09        0.686054    Direct   \n",
              "4   2025-04-25 09:14:00  2025-04-25 23:17:20       14.055609    1 Stop   \n",
              "\n",
              "  Aircraft Type        Class  Booking Source  Base Fare (BDT)  \\\n",
              "0   Airbus A320      Economy  Online Website     21131.225021   \n",
              "1   Airbus A320  First Class   Travel Agency     11605.395471   \n",
              "2    Boeing 787      Economy   Travel Agency     39882.499349   \n",
              "3   Airbus A320      Economy  Direct Booking      4435.607340   \n",
              "4   Airbus A350     Business  Direct Booking     59243.806146   \n",
              "\n",
              "   Tax & Surcharge (BDT)  Total Fare (BDT)      Seasonality  \\\n",
              "0            5169.683753      26300.908775          Regular   \n",
              "1             200.000000      11805.395471          Regular   \n",
              "2           11982.374902      51864.874251  Winter Holidays   \n",
              "3             200.000000       4635.607340          Regular   \n",
              "4           14886.570922      74130.377068          Regular   \n",
              "\n",
              "   Days Before Departure  \n",
              "0                     10  \n",
              "1                     14  \n",
              "2                     83  \n",
              "3                     56  \n",
              "4                     90  "
            ],
            "text/html": [
              "\n",
              "  <div id=\"df-a531bfe6-31a9-4cec-b59d-634fbc46d760\" class=\"colab-df-container\">\n",
              "    <div>\n",
              "<style scoped>\n",
              "    .dataframe tbody tr th:only-of-type {\n",
              "        vertical-align: middle;\n",
              "    }\n",
              "\n",
              "    .dataframe tbody tr th {\n",
              "        vertical-align: top;\n",
              "    }\n",
              "\n",
              "    .dataframe thead th {\n",
              "        text-align: right;\n",
              "    }\n",
              "</style>\n",
              "<table border=\"1\" class=\"dataframe\">\n",
              "  <thead>\n",
              "    <tr style=\"text-align: right;\">\n",
              "      <th></th>\n",
              "      <th>Airline</th>\n",
              "      <th>Source</th>\n",
              "      <th>Source Name</th>\n",
              "      <th>Destination</th>\n",
              "      <th>Destination Name</th>\n",
              "      <th>Departure Date &amp; Time</th>\n",
              "      <th>Arrival Date &amp; Time</th>\n",
              "      <th>Duration (hrs)</th>\n",
              "      <th>Stopovers</th>\n",
              "      <th>Aircraft Type</th>\n",
              "      <th>Class</th>\n",
              "      <th>Booking Source</th>\n",
              "      <th>Base Fare (BDT)</th>\n",
              "      <th>Tax &amp; Surcharge (BDT)</th>\n",
              "      <th>Total Fare (BDT)</th>\n",
              "      <th>Seasonality</th>\n",
              "      <th>Days Before Departure</th>\n",
              "    </tr>\n",
              "  </thead>\n",
              "  <tbody>\n",
              "    <tr>\n",
              "      <th>0</th>\n",
              "      <td>Malaysian Airlines</td>\n",
              "      <td>CXB</td>\n",
              "      <td>Cox's Bazar Airport</td>\n",
              "      <td>CCU</td>\n",
              "      <td>Netaji Subhas Chandra Bose International Airpo...</td>\n",
              "      <td>2025-11-17 06:25:00</td>\n",
              "      <td>2025-11-17 07:38:10</td>\n",
              "      <td>1.219526</td>\n",
              "      <td>Direct</td>\n",
              "      <td>Airbus A320</td>\n",
              "      <td>Economy</td>\n",
              "      <td>Online Website</td>\n",
              "      <td>21131.225021</td>\n",
              "      <td>5169.683753</td>\n",
              "      <td>26300.908775</td>\n",
              "      <td>Regular</td>\n",
              "      <td>10</td>\n",
              "    </tr>\n",
              "    <tr>\n",
              "      <th>1</th>\n",
              "      <td>Cathay Pacific</td>\n",
              "      <td>BZL</td>\n",
              "      <td>Barisal Airport</td>\n",
              "      <td>CGP</td>\n",
              "      <td>Shah Amanat International Airport, Chittagong</td>\n",
              "      <td>2025-03-16 00:17:00</td>\n",
              "      <td>2025-03-16 00:53:31</td>\n",
              "      <td>0.608638</td>\n",
              "      <td>Direct</td>\n",
              "      <td>Airbus A320</td>\n",
              "      <td>First Class</td>\n",
              "      <td>Travel Agency</td>\n",
              "      <td>11605.395471</td>\n",
              "      <td>200.000000</td>\n",
              "      <td>11805.395471</td>\n",
              "      <td>Regular</td>\n",
              "      <td>14</td>\n",
              "    </tr>\n",
              "    <tr>\n",
              "      <th>2</th>\n",
              "      <td>British Airways</td>\n",
              "      <td>ZYL</td>\n",
              "      <td>Osmani International Airport, Sylhet</td>\n",
              "      <td>KUL</td>\n",
              "      <td>Kuala Lumpur International Airport</td>\n",
              "      <td>2025-12-13 12:03:00</td>\n",
              "      <td>2025-12-13 14:44:22</td>\n",
              "      <td>2.689651</td>\n",
              "      <td>1 Stop</td>\n",
              "      <td>Boeing 787</td>\n",
              "      <td>Economy</td>\n",
              "      <td>Travel Agency</td>\n",
              "      <td>39882.499349</td>\n",
              "      <td>11982.374902</td>\n",
              "      <td>51864.874251</td>\n",
              "      <td>Winter Holidays</td>\n",
              "      <td>83</td>\n",
              "    </tr>\n",
              "    <tr>\n",
              "      <th>3</th>\n",
              "      <td>Singapore Airlines</td>\n",
              "      <td>RJH</td>\n",
              "      <td>Shah Makhdum Airport, Rajshahi</td>\n",
              "      <td>DAC</td>\n",
              "      <td>Hazrat Shahjalal International Airport, Dhaka</td>\n",
              "      <td>2025-05-30 03:21:00</td>\n",
              "      <td>2025-05-30 04:02:09</td>\n",
              "      <td>0.686054</td>\n",
              "      <td>Direct</td>\n",
              "      <td>Airbus A320</td>\n",
              "      <td>Economy</td>\n",
              "      <td>Direct Booking</td>\n",
              "      <td>4435.607340</td>\n",
              "      <td>200.000000</td>\n",
              "      <td>4635.607340</td>\n",
              "      <td>Regular</td>\n",
              "      <td>56</td>\n",
              "    </tr>\n",
              "    <tr>\n",
              "      <th>4</th>\n",
              "      <td>British Airways</td>\n",
              "      <td>SPD</td>\n",
              "      <td>Saidpur Airport</td>\n",
              "      <td>YYZ</td>\n",
              "      <td>Toronto Pearson International Airport</td>\n",
              "      <td>2025-04-25 09:14:00</td>\n",
              "      <td>2025-04-25 23:17:20</td>\n",
              "      <td>14.055609</td>\n",
              "      <td>1 Stop</td>\n",
              "      <td>Airbus A350</td>\n",
              "      <td>Business</td>\n",
              "      <td>Direct Booking</td>\n",
              "      <td>59243.806146</td>\n",
              "      <td>14886.570922</td>\n",
              "      <td>74130.377068</td>\n",
              "      <td>Regular</td>\n",
              "      <td>90</td>\n",
              "    </tr>\n",
              "  </tbody>\n",
              "</table>\n",
              "</div>\n",
              "    <div class=\"colab-df-buttons\">\n",
              "\n",
              "  <div class=\"colab-df-container\">\n",
              "    <button class=\"colab-df-convert\" onclick=\"convertToInteractive('df-a531bfe6-31a9-4cec-b59d-634fbc46d760')\"\n",
              "            title=\"Convert this dataframe to an interactive table.\"\n",
              "            style=\"display:none;\">\n",
              "\n",
              "  <svg xmlns=\"http://www.w3.org/2000/svg\" height=\"24px\" viewBox=\"0 -960 960 960\">\n",
              "    <path d=\"M120-120v-720h720v720H120Zm60-500h600v-160H180v160Zm220 220h160v-160H400v160Zm0 220h160v-160H400v160ZM180-400h160v-160H180v160Zm440 0h160v-160H620v160ZM180-180h160v-160H180v160Zm440 0h160v-160H620v160Z\"/>\n",
              "  </svg>\n",
              "    </button>\n",
              "\n",
              "  <style>\n",
              "    .colab-df-container {\n",
              "      display:flex;\n",
              "      gap: 12px;\n",
              "    }\n",
              "\n",
              "    .colab-df-convert {\n",
              "      background-color: #E8F0FE;\n",
              "      border: none;\n",
              "      border-radius: 50%;\n",
              "      cursor: pointer;\n",
              "      display: none;\n",
              "      fill: #1967D2;\n",
              "      height: 32px;\n",
              "      padding: 0 0 0 0;\n",
              "      width: 32px;\n",
              "    }\n",
              "\n",
              "    .colab-df-convert:hover {\n",
              "      background-color: #E2EBFA;\n",
              "      box-shadow: 0px 1px 2px rgba(60, 64, 67, 0.3), 0px 1px 3px 1px rgba(60, 64, 67, 0.15);\n",
              "      fill: #174EA6;\n",
              "    }\n",
              "\n",
              "    .colab-df-buttons div {\n",
              "      margin-bottom: 4px;\n",
              "    }\n",
              "\n",
              "    [theme=dark] .colab-df-convert {\n",
              "      background-color: #3B4455;\n",
              "      fill: #D2E3FC;\n",
              "    }\n",
              "\n",
              "    [theme=dark] .colab-df-convert:hover {\n",
              "      background-color: #434B5C;\n",
              "      box-shadow: 0px 1px 3px 1px rgba(0, 0, 0, 0.15);\n",
              "      filter: drop-shadow(0px 1px 2px rgba(0, 0, 0, 0.3));\n",
              "      fill: #FFFFFF;\n",
              "    }\n",
              "  </style>\n",
              "\n",
              "    <script>\n",
              "      const buttonEl =\n",
              "        document.querySelector('#df-a531bfe6-31a9-4cec-b59d-634fbc46d760 button.colab-df-convert');\n",
              "      buttonEl.style.display =\n",
              "        google.colab.kernel.accessAllowed ? 'block' : 'none';\n",
              "\n",
              "      async function convertToInteractive(key) {\n",
              "        const element = document.querySelector('#df-a531bfe6-31a9-4cec-b59d-634fbc46d760');\n",
              "        const dataTable =\n",
              "          await google.colab.kernel.invokeFunction('convertToInteractive',\n",
              "                                                    [key], {});\n",
              "        if (!dataTable) return;\n",
              "\n",
              "        const docLinkHtml = 'Like what you see? Visit the ' +\n",
              "          '<a target=\"_blank\" href=https://colab.research.google.com/notebooks/data_table.ipynb>data table notebook</a>'\n",
              "          + ' to learn more about interactive tables.';\n",
              "        element.innerHTML = '';\n",
              "        dataTable['output_type'] = 'display_data';\n",
              "        await google.colab.output.renderOutput(dataTable, element);\n",
              "        const docLink = document.createElement('div');\n",
              "        docLink.innerHTML = docLinkHtml;\n",
              "        element.appendChild(docLink);\n",
              "      }\n",
              "    </script>\n",
              "  </div>\n",
              "\n",
              "\n",
              "    <div id=\"df-12aa4b0c-5817-402b-8faf-04ef76247c95\">\n",
              "      <button class=\"colab-df-quickchart\" onclick=\"quickchart('df-12aa4b0c-5817-402b-8faf-04ef76247c95')\"\n",
              "                title=\"Suggest charts\"\n",
              "                style=\"display:none;\">\n",
              "\n",
              "<svg xmlns=\"http://www.w3.org/2000/svg\" height=\"24px\"viewBox=\"0 0 24 24\"\n",
              "     width=\"24px\">\n",
              "    <g>\n",
              "        <path d=\"M19 3H5c-1.1 0-2 .9-2 2v14c0 1.1.9 2 2 2h14c1.1 0 2-.9 2-2V5c0-1.1-.9-2-2-2zM9 17H7v-7h2v7zm4 0h-2V7h2v10zm4 0h-2v-4h2v4z\"/>\n",
              "    </g>\n",
              "</svg>\n",
              "      </button>\n",
              "\n",
              "<style>\n",
              "  .colab-df-quickchart {\n",
              "      --bg-color: #E8F0FE;\n",
              "      --fill-color: #1967D2;\n",
              "      --hover-bg-color: #E2EBFA;\n",
              "      --hover-fill-color: #174EA6;\n",
              "      --disabled-fill-color: #AAA;\n",
              "      --disabled-bg-color: #DDD;\n",
              "  }\n",
              "\n",
              "  [theme=dark] .colab-df-quickchart {\n",
              "      --bg-color: #3B4455;\n",
              "      --fill-color: #D2E3FC;\n",
              "      --hover-bg-color: #434B5C;\n",
              "      --hover-fill-color: #FFFFFF;\n",
              "      --disabled-bg-color: #3B4455;\n",
              "      --disabled-fill-color: #666;\n",
              "  }\n",
              "\n",
              "  .colab-df-quickchart {\n",
              "    background-color: var(--bg-color);\n",
              "    border: none;\n",
              "    border-radius: 50%;\n",
              "    cursor: pointer;\n",
              "    display: none;\n",
              "    fill: var(--fill-color);\n",
              "    height: 32px;\n",
              "    padding: 0;\n",
              "    width: 32px;\n",
              "  }\n",
              "\n",
              "  .colab-df-quickchart:hover {\n",
              "    background-color: var(--hover-bg-color);\n",
              "    box-shadow: 0 1px 2px rgba(60, 64, 67, 0.3), 0 1px 3px 1px rgba(60, 64, 67, 0.15);\n",
              "    fill: var(--button-hover-fill-color);\n",
              "  }\n",
              "\n",
              "  .colab-df-quickchart-complete:disabled,\n",
              "  .colab-df-quickchart-complete:disabled:hover {\n",
              "    background-color: var(--disabled-bg-color);\n",
              "    fill: var(--disabled-fill-color);\n",
              "    box-shadow: none;\n",
              "  }\n",
              "\n",
              "  .colab-df-spinner {\n",
              "    border: 2px solid var(--fill-color);\n",
              "    border-color: transparent;\n",
              "    border-bottom-color: var(--fill-color);\n",
              "    animation:\n",
              "      spin 1s steps(1) infinite;\n",
              "  }\n",
              "\n",
              "  @keyframes spin {\n",
              "    0% {\n",
              "      border-color: transparent;\n",
              "      border-bottom-color: var(--fill-color);\n",
              "      border-left-color: var(--fill-color);\n",
              "    }\n",
              "    20% {\n",
              "      border-color: transparent;\n",
              "      border-left-color: var(--fill-color);\n",
              "      border-top-color: var(--fill-color);\n",
              "    }\n",
              "    30% {\n",
              "      border-color: transparent;\n",
              "      border-left-color: var(--fill-color);\n",
              "      border-top-color: var(--fill-color);\n",
              "      border-right-color: var(--fill-color);\n",
              "    }\n",
              "    40% {\n",
              "      border-color: transparent;\n",
              "      border-right-color: var(--fill-color);\n",
              "      border-top-color: var(--fill-color);\n",
              "    }\n",
              "    60% {\n",
              "      border-color: transparent;\n",
              "      border-right-color: var(--fill-color);\n",
              "    }\n",
              "    80% {\n",
              "      border-color: transparent;\n",
              "      border-right-color: var(--fill-color);\n",
              "      border-bottom-color: var(--fill-color);\n",
              "    }\n",
              "    90% {\n",
              "      border-color: transparent;\n",
              "      border-bottom-color: var(--fill-color);\n",
              "    }\n",
              "  }\n",
              "</style>\n",
              "\n",
              "      <script>\n",
              "        async function quickchart(key) {\n",
              "          const quickchartButtonEl =\n",
              "            document.querySelector('#' + key + ' button');\n",
              "          quickchartButtonEl.disabled = true;  // To prevent multiple clicks.\n",
              "          quickchartButtonEl.classList.add('colab-df-spinner');\n",
              "          try {\n",
              "            const charts = await google.colab.kernel.invokeFunction(\n",
              "                'suggestCharts', [key], {});\n",
              "          } catch (error) {\n",
              "            console.error('Error during call to suggestCharts:', error);\n",
              "          }\n",
              "          quickchartButtonEl.classList.remove('colab-df-spinner');\n",
              "          quickchartButtonEl.classList.add('colab-df-quickchart-complete');\n",
              "        }\n",
              "        (() => {\n",
              "          let quickchartButtonEl =\n",
              "            document.querySelector('#df-12aa4b0c-5817-402b-8faf-04ef76247c95 button');\n",
              "          quickchartButtonEl.style.display =\n",
              "            google.colab.kernel.accessAllowed ? 'block' : 'none';\n",
              "        })();\n",
              "      </script>\n",
              "    </div>\n",
              "\n",
              "    </div>\n",
              "  </div>\n"
            ],
            "application/vnd.google.colaboratory.intrinsic+json": {
              "type": "dataframe",
              "variable_name": "flight_f",
              "summary": "{\n  \"name\": \"flight_f\",\n  \"rows\": 57000,\n  \"fields\": [\n    {\n      \"column\": \"Airline\",\n      \"properties\": {\n        \"dtype\": \"category\",\n        \"num_unique_values\": 24,\n        \"samples\": [\n          \"Gulf Air\",\n          \"Air India\",\n          \"Malaysian Airlines\"\n        ],\n        \"semantic_type\": \"\",\n        \"description\": \"\"\n      }\n    },\n    {\n      \"column\": \"Source\",\n      \"properties\": {\n        \"dtype\": \"category\",\n        \"num_unique_values\": 8,\n        \"samples\": [\n          \"BZL\",\n          \"JSR\",\n          \"CXB\"\n        ],\n        \"semantic_type\": \"\",\n        \"description\": \"\"\n      }\n    },\n    {\n      \"column\": \"Source Name\",\n      \"properties\": {\n        \"dtype\": \"category\",\n        \"num_unique_values\": 8,\n        \"samples\": [\n          \"Barisal Airport\",\n          \"Jessore Airport\",\n          \"Cox's Bazar Airport\"\n        ],\n        \"semantic_type\": \"\",\n        \"description\": \"\"\n      }\n    },\n    {\n      \"column\": \"Destination\",\n      \"properties\": {\n        \"dtype\": \"category\",\n        \"num_unique_values\": 20,\n        \"samples\": [\n          \"CCU\",\n          \"DOH\",\n          \"SIN\"\n        ],\n        \"semantic_type\": \"\",\n        \"description\": \"\"\n      }\n    },\n    {\n      \"column\": \"Destination Name\",\n      \"properties\": {\n        \"dtype\": \"category\",\n        \"num_unique_values\": 20,\n        \"samples\": [\n          \"Netaji Subhas Chandra Bose International Airport, Kolkata\",\n          \"Hamad International Airport, Doha\",\n          \"Singapore Changi Airport\"\n        ],\n        \"semantic_type\": \"\",\n        \"description\": \"\"\n      }\n    },\n    {\n      \"column\": \"Departure Date & Time\",\n      \"properties\": {\n        \"dtype\": \"object\",\n        \"num_unique_values\": 54126,\n        \"samples\": [\n          \"2025-03-18 12:29:00\",\n          \"2025-06-17 13:05:00\",\n          \"2025-05-07 09:09:00\"\n        ],\n        \"semantic_type\": \"\",\n        \"description\": \"\"\n      }\n    },\n    {\n      \"column\": \"Arrival Date & Time\",\n      \"properties\": {\n        \"dtype\": \"object\",\n        \"num_unique_values\": 56944,\n        \"samples\": [\n          \"2025-11-09 10:20:29\",\n          \"2025-03-13 14:41:59\",\n          \"2025-06-03 17:17:02\"\n        ],\n        \"semantic_type\": \"\",\n        \"description\": \"\"\n      }\n    },\n    {\n      \"column\": \"Duration (hrs)\",\n      \"properties\": {\n        \"dtype\": \"number\",\n        \"std\": 4.094042529800683,\n        \"min\": 0.5,\n        \"max\": 15.83171913401724,\n        \"num_unique_values\": 53135,\n        \"samples\": [\n          1.1035303891796158,\n          2.0287485996955907,\n          7.1651247106788585\n        ],\n        \"semantic_type\": \"\",\n        \"description\": \"\"\n      }\n    },\n    {\n      \"column\": \"Stopovers\",\n      \"properties\": {\n        \"dtype\": \"category\",\n        \"num_unique_values\": 3,\n        \"samples\": [\n          \"Direct\",\n          \"1 Stop\",\n          \"2 Stops\"\n        ],\n        \"semantic_type\": \"\",\n        \"description\": \"\"\n      }\n    },\n    {\n      \"column\": \"Aircraft Type\",\n      \"properties\": {\n        \"dtype\": \"category\",\n        \"num_unique_values\": 5,\n        \"samples\": [\n          \"Boeing 787\",\n          \"Boeing 737\",\n          \"Airbus A350\"\n        ],\n        \"semantic_type\": \"\",\n        \"description\": \"\"\n      }\n    },\n    {\n      \"column\": \"Class\",\n      \"properties\": {\n        \"dtype\": \"category\",\n        \"num_unique_values\": 3,\n        \"samples\": [\n          \"Economy\",\n          \"First Class\",\n          \"Business\"\n        ],\n        \"semantic_type\": \"\",\n        \"description\": \"\"\n      }\n    },\n    {\n      \"column\": \"Booking Source\",\n      \"properties\": {\n        \"dtype\": \"category\",\n        \"num_unique_values\": 3,\n        \"samples\": [\n          \"Online Website\",\n          \"Travel Agency\",\n          \"Direct Booking\"\n        ],\n        \"semantic_type\": \"\",\n        \"description\": \"\"\n      }\n    },\n    {\n      \"column\": \"Base Fare (BDT)\",\n      \"properties\": {\n        \"dtype\": \"number\",\n        \"std\": 68840.6144989146,\n        \"min\": 1600.9756881504618,\n        \"max\": 449222.93377037166,\n        \"num_unique_values\": 57000,\n        \"samples\": [\n          3243.6805865199294,\n          55317.24453128397,\n          2398.866083660674\n        ],\n        \"semantic_type\": \"\",\n        \"description\": \"\"\n      }\n    },\n    {\n      \"column\": \"Tax & Surcharge (BDT)\",\n      \"properties\": {\n        \"dtype\": \"number\",\n        \"std\": 12124.344328813713,\n        \"min\": 200.0,\n        \"max\": 73383.44006555574,\n        \"num_unique_values\": 35969,\n        \"samples\": [\n          47911.65111585043,\n          16355.600339815075,\n          26178.697774057982\n        ],\n        \"semantic_type\": \"\",\n        \"description\": \"\"\n      }\n    },\n    {\n      \"column\": \"Total Fare (BDT)\",\n      \"properties\": {\n        \"dtype\": \"number\",\n        \"std\": 81769.19953622721,\n        \"min\": 1800.9756881504618,\n        \"max\": 558987.332444109,\n        \"num_unique_values\": 57000,\n        \"samples\": [\n          3443.6805865199294,\n          69614.83121097657,\n          2598.866083660674\n        ],\n        \"semantic_type\": \"\",\n        \"description\": \"\"\n      }\n    },\n    {\n      \"column\": \"Seasonality\",\n      \"properties\": {\n        \"dtype\": \"category\",\n        \"num_unique_values\": 4,\n        \"samples\": [\n          \"Winter Holidays\",\n          \"Hajj\",\n          \"Regular\"\n        ],\n        \"semantic_type\": \"\",\n        \"description\": \"\"\n      }\n    },\n    {\n      \"column\": \"Days Before Departure\",\n      \"properties\": {\n        \"dtype\": \"number\",\n        \"std\": 26,\n        \"min\": 1,\n        \"max\": 90,\n        \"num_unique_values\": 90,\n        \"samples\": [\n          81,\n          3,\n          51\n        ],\n        \"semantic_type\": \"\",\n        \"description\": \"\"\n      }\n    }\n  ]\n}"
            }
          },
          "metadata": {},
          "execution_count": 3
        }
      ],
      "source": [
        "flight_f.head()"
      ]
    },
    {
      "cell_type": "code",
      "execution_count": null,
      "metadata": {
        "colab": {
          "base_uri": "https://localhost:8080/"
        },
        "id": "WVIOMoYznyXZ",
        "outputId": "c4c85ec8-5a09-4eda-f981-964b293bf74d"
      },
      "outputs": [
        {
          "output_type": "stream",
          "name": "stdout",
          "text": [
            "<class 'pandas.core.frame.DataFrame'>\n",
            "RangeIndex: 57000 entries, 0 to 56999\n",
            "Data columns (total 17 columns):\n",
            " #   Column                 Non-Null Count  Dtype  \n",
            "---  ------                 --------------  -----  \n",
            " 0   Airline                57000 non-null  object \n",
            " 1   Source                 57000 non-null  object \n",
            " 2   Source Name            57000 non-null  object \n",
            " 3   Destination            57000 non-null  object \n",
            " 4   Destination Name       57000 non-null  object \n",
            " 5   Departure Date & Time  57000 non-null  object \n",
            " 6   Arrival Date & Time    57000 non-null  object \n",
            " 7   Duration (hrs)         57000 non-null  float64\n",
            " 8   Stopovers              57000 non-null  object \n",
            " 9   Aircraft Type          57000 non-null  object \n",
            " 10  Class                  57000 non-null  object \n",
            " 11  Booking Source         57000 non-null  object \n",
            " 12  Base Fare (BDT)        57000 non-null  float64\n",
            " 13  Tax & Surcharge (BDT)  57000 non-null  float64\n",
            " 14  Total Fare (BDT)       57000 non-null  float64\n",
            " 15  Seasonality            57000 non-null  object \n",
            " 16  Days Before Departure  57000 non-null  int64  \n",
            "dtypes: float64(4), int64(1), object(12)\n",
            "memory usage: 7.4+ MB\n"
          ]
        }
      ],
      "source": [
        "flight_f.info()"
      ]
    },
    {
      "cell_type": "markdown",
      "metadata": {
        "id": "r1IqUF2XYC38"
      },
      "source": [
        "## Step 2 : Describe Data Types"
      ]
    },
    {
      "cell_type": "markdown",
      "metadata": {
        "id": "VHp58c5EIMS3"
      },
      "source": [
        "### Identify Categorical and Numerical Features  \n",
        "Here we separate object-type columns as categorical features and numeric types as continuous features.  \n",
        "This helps decide appropriate preprocessing steps for each group.  \n"
      ]
    },
    {
      "cell_type": "code",
      "execution_count": null,
      "metadata": {
        "id": "_MPdH-_naCvt"
      },
      "outputs": [],
      "source": [
        "category_columns = flight_f.select_dtypes(include=['object']).columns.tolist()\n",
        "numerical_cols = flight_f.select_dtypes(include=['int64', 'float64']).columns.tolist()"
      ]
    },
    {
      "cell_type": "code",
      "execution_count": null,
      "metadata": {
        "colab": {
          "base_uri": "https://localhost:8080/"
        },
        "id": "7urROcB-xL-D",
        "outputId": "8a104951-0f50-49b2-dd13-ee9167da4014"
      },
      "outputs": [
        {
          "output_type": "stream",
          "name": "stdout",
          "text": [
            "Categorical Columns: ['Airline', 'Source', 'Source Name', 'Destination', 'Destination Name', 'Departure Date & Time', 'Arrival Date & Time', 'Stopovers', 'Aircraft Type', 'Class', 'Booking Source', 'Seasonality']\n"
          ]
        }
      ],
      "source": [
        "print(\"Categorical Columns:\", category_columns)"
      ]
    },
    {
      "cell_type": "code",
      "execution_count": null,
      "metadata": {
        "colab": {
          "base_uri": "https://localhost:8080/"
        },
        "id": "21Pefxr0xPOO",
        "outputId": "0328f65d-439f-46ad-d0e9-12d66d23572a"
      },
      "outputs": [
        {
          "output_type": "stream",
          "name": "stdout",
          "text": [
            "Numerical Columns: ['Duration (hrs)', 'Base Fare (BDT)', 'Tax & Surcharge (BDT)', 'Total Fare (BDT)', 'Days Before Departure']\n"
          ]
        }
      ],
      "source": [
        "print(\"Numerical Columns:\", numerical_cols)"
      ]
    },
    {
      "cell_type": "code",
      "execution_count": null,
      "metadata": {
        "colab": {
          "base_uri": "https://localhost:8080/",
          "height": 617
        },
        "id": "3puSpNWPxRpc",
        "outputId": "001e1486-3b6f-4651-9922-5bb4aff700bf"
      },
      "outputs": [
        {
          "output_type": "execute_result",
          "data": {
            "text/plain": [
              "Airline                   object\n",
              "Source                    object\n",
              "Source Name               object\n",
              "Destination               object\n",
              "Destination Name          object\n",
              "Departure Date & Time     object\n",
              "Arrival Date & Time       object\n",
              "Duration (hrs)           float64\n",
              "Stopovers                 object\n",
              "Aircraft Type             object\n",
              "Class                     object\n",
              "Booking Source            object\n",
              "Base Fare (BDT)          float64\n",
              "Tax & Surcharge (BDT)    float64\n",
              "Total Fare (BDT)         float64\n",
              "Seasonality               object\n",
              "Days Before Departure      int64\n",
              "dtype: object"
            ],
            "text/html": [
              "<div>\n",
              "<style scoped>\n",
              "    .dataframe tbody tr th:only-of-type {\n",
              "        vertical-align: middle;\n",
              "    }\n",
              "\n",
              "    .dataframe tbody tr th {\n",
              "        vertical-align: top;\n",
              "    }\n",
              "\n",
              "    .dataframe thead th {\n",
              "        text-align: right;\n",
              "    }\n",
              "</style>\n",
              "<table border=\"1\" class=\"dataframe\">\n",
              "  <thead>\n",
              "    <tr style=\"text-align: right;\">\n",
              "      <th></th>\n",
              "      <th>0</th>\n",
              "    </tr>\n",
              "  </thead>\n",
              "  <tbody>\n",
              "    <tr>\n",
              "      <th>Airline</th>\n",
              "      <td>object</td>\n",
              "    </tr>\n",
              "    <tr>\n",
              "      <th>Source</th>\n",
              "      <td>object</td>\n",
              "    </tr>\n",
              "    <tr>\n",
              "      <th>Source Name</th>\n",
              "      <td>object</td>\n",
              "    </tr>\n",
              "    <tr>\n",
              "      <th>Destination</th>\n",
              "      <td>object</td>\n",
              "    </tr>\n",
              "    <tr>\n",
              "      <th>Destination Name</th>\n",
              "      <td>object</td>\n",
              "    </tr>\n",
              "    <tr>\n",
              "      <th>Departure Date &amp; Time</th>\n",
              "      <td>object</td>\n",
              "    </tr>\n",
              "    <tr>\n",
              "      <th>Arrival Date &amp; Time</th>\n",
              "      <td>object</td>\n",
              "    </tr>\n",
              "    <tr>\n",
              "      <th>Duration (hrs)</th>\n",
              "      <td>float64</td>\n",
              "    </tr>\n",
              "    <tr>\n",
              "      <th>Stopovers</th>\n",
              "      <td>object</td>\n",
              "    </tr>\n",
              "    <tr>\n",
              "      <th>Aircraft Type</th>\n",
              "      <td>object</td>\n",
              "    </tr>\n",
              "    <tr>\n",
              "      <th>Class</th>\n",
              "      <td>object</td>\n",
              "    </tr>\n",
              "    <tr>\n",
              "      <th>Booking Source</th>\n",
              "      <td>object</td>\n",
              "    </tr>\n",
              "    <tr>\n",
              "      <th>Base Fare (BDT)</th>\n",
              "      <td>float64</td>\n",
              "    </tr>\n",
              "    <tr>\n",
              "      <th>Tax &amp; Surcharge (BDT)</th>\n",
              "      <td>float64</td>\n",
              "    </tr>\n",
              "    <tr>\n",
              "      <th>Total Fare (BDT)</th>\n",
              "      <td>float64</td>\n",
              "    </tr>\n",
              "    <tr>\n",
              "      <th>Seasonality</th>\n",
              "      <td>object</td>\n",
              "    </tr>\n",
              "    <tr>\n",
              "      <th>Days Before Departure</th>\n",
              "      <td>int64</td>\n",
              "    </tr>\n",
              "  </tbody>\n",
              "</table>\n",
              "</div><br><label><b>dtype:</b> object</label>"
            ]
          },
          "metadata": {},
          "execution_count": 8
        }
      ],
      "source": [
        "flight_f.dtypes"
      ]
    },
    {
      "cell_type": "markdown",
      "metadata": {
        "id": "8ixJ87nsIMS4"
      },
      "source": [
        "### Summary Statistics of Numerical Features  \n",
        "Use `.describe()` to get count, mean, std, min/max and quartiles for all numeric columns.  \n",
        "This gives a quick overview of distributions and potential outliers.  \n"
      ]
    },
    {
      "cell_type": "code",
      "execution_count": null,
      "metadata": {
        "colab": {
          "base_uri": "https://localhost:8080/"
        },
        "id": "vi3hY3LTb_mB",
        "outputId": "0b94de04-dcef-4a84-a3b3-fcc538c5c638"
      },
      "outputs": [
        {
          "output_type": "stream",
          "name": "stdout",
          "text": [
            "       Duration (hrs)  Base Fare (BDT)  Tax & Surcharge (BDT)  \\\n",
            "count    57000.000000     57000.000000           57000.000000   \n",
            "mean         3.994955     58899.556573           11448.238494   \n",
            "std          4.094043     68840.614499           12124.344329   \n",
            "min          0.500000      1600.975688             200.000000   \n",
            "25%          1.003745      8856.316983             200.000000   \n",
            "50%          2.644656     31615.996792            9450.940481   \n",
            "75%          5.490104     85722.930389           17513.046160   \n",
            "max         15.831719    449222.933770           73383.440066   \n",
            "\n",
            "       Total Fare (BDT)  Days Before Departure  \n",
            "count      57000.000000           57000.000000  \n",
            "mean       71030.316199              45.460579  \n",
            "std        81769.199536              26.015657  \n",
            "min         1800.975688               1.000000  \n",
            "25%         9602.699787              23.000000  \n",
            "50%        41307.544990              45.000000  \n",
            "75%       103800.906963              68.000000  \n",
            "max       558987.332444              90.000000  \n"
          ]
        }
      ],
      "source": [
        "print(flight_f.describe())"
      ]
    },
    {
      "cell_type": "markdown",
      "metadata": {
        "id": "hC3epGUZIMS5"
      },
      "source": [
        "### Drop Unneeded Columns and Save Updated Dataset  \n",
        "Remove source and destination names to focus on numeric and encoded features.  \n",
        "Save the cleaned DataFrame to a new CSV for downstream modeling.  \n"
      ]
    },
    {
      "cell_type": "code",
      "execution_count": null,
      "metadata": {
        "id": "Lomp6N0DFx_d"
      },
      "outputs": [],
      "source": [
        "flight_f2 = flight_f.drop(['Source Name', 'Destination Name'], axis=1)"
      ]
    },
    {
      "cell_type": "markdown",
      "metadata": {
        "id": "Hn1KStarHSQJ"
      },
      "source": [
        "code `flight_f2.to_csv(\"Flight_Price_Dataset_Updated.csv\", index=False)` saves the flight_f2 DataFrame to a new CSV file named Flight_Price_Dataset_Updated.csv. The `index = False` parameter ensures that the DataFrame's row indices are not included in the output file, keeping the CSV clean and focused on the actual data columns (e.g., Airline, Source, Destination, Total Fare (BDT)). This step preserves the updated dataset after removing redundant columns like Source Name and Destination Name for use in further analysis."
      ]
    },
    {
      "cell_type": "code",
      "execution_count": null,
      "metadata": {
        "id": "0nGVEREfF-J5"
      },
      "outputs": [],
      "source": [
        "flight_f2.to_csv(\"Flight_Price_Dataset_Updated.csv\", index=False)"
      ]
    },
    {
      "cell_type": "markdown",
      "metadata": {
        "id": "-tJKMHQtIMS5"
      },
      "source": [
        "### Convert Date-Time Columns and Extract Features  \n",
        "Transform departure and arrival timestamps to datetime type,  \n",
        "then create separate columns for departure day and month to capture temporal patterns.  \n"
      ]
    },
    {
      "cell_type": "code",
      "execution_count": null,
      "metadata": {
        "id": "iFdTKCU7NPMY"
      },
      "outputs": [],
      "source": [
        "flight_f2['Departure Date & Time'] = pd.to_datetime(flight_f2['Departure Date & Time'])\n",
        "flight_f2['Arrival Date & Time'] = pd.to_datetime(flight_f2['Arrival Date & Time'])\n",
        "flight_f2['Departure_Day'] = flight_f2['Departure Date & Time'].dt.day\n",
        "flight_f2['Departure_Month'] = flight_f2['Departure Date & Time'].dt.month"
      ]
    },
    {
      "cell_type": "code",
      "execution_count": null,
      "metadata": {
        "colab": {
          "base_uri": "https://localhost:8080/",
          "height": 206
        },
        "id": "v_jEZ2vpGIs1",
        "outputId": "7a23fb27-1ce9-4bd7-9a23-3b486d71bcbd"
      },
      "outputs": [
        {
          "output_type": "execute_result",
          "data": {
            "text/plain": [
              "              Airline Source Destination Departure Date & Time  \\\n",
              "0  Malaysian Airlines    CXB         CCU   2025-11-17 06:25:00   \n",
              "1      Cathay Pacific    BZL         CGP   2025-03-16 00:17:00   \n",
              "2     British Airways    ZYL         KUL   2025-12-13 12:03:00   \n",
              "3  Singapore Airlines    RJH         DAC   2025-05-30 03:21:00   \n",
              "4     British Airways    SPD         YYZ   2025-04-25 09:14:00   \n",
              "\n",
              "  Arrival Date & Time  Duration (hrs) Stopovers Aircraft Type        Class  \\\n",
              "0 2025-11-17 07:38:10        1.219526    Direct   Airbus A320      Economy   \n",
              "1 2025-03-16 00:53:31        0.608638    Direct   Airbus A320  First Class   \n",
              "2 2025-12-13 14:44:22        2.689651    1 Stop    Boeing 787      Economy   \n",
              "3 2025-05-30 04:02:09        0.686054    Direct   Airbus A320      Economy   \n",
              "4 2025-04-25 23:17:20       14.055609    1 Stop   Airbus A350     Business   \n",
              "\n",
              "   Booking Source  Base Fare (BDT)  Tax & Surcharge (BDT)  Total Fare (BDT)  \\\n",
              "0  Online Website     21131.225021            5169.683753      26300.908775   \n",
              "1   Travel Agency     11605.395471             200.000000      11805.395471   \n",
              "2   Travel Agency     39882.499349           11982.374902      51864.874251   \n",
              "3  Direct Booking      4435.607340             200.000000       4635.607340   \n",
              "4  Direct Booking     59243.806146           14886.570922      74130.377068   \n",
              "\n",
              "       Seasonality  Days Before Departure  Departure_Day  Departure_Month  \n",
              "0          Regular                     10             17               11  \n",
              "1          Regular                     14             16                3  \n",
              "2  Winter Holidays                     83             13               12  \n",
              "3          Regular                     56             30                5  \n",
              "4          Regular                     90             25                4  "
            ],
            "text/html": [
              "\n",
              "  <div id=\"df-20fa3a2c-54b0-4d47-91f2-e2399941a6fc\" class=\"colab-df-container\">\n",
              "    <div>\n",
              "<style scoped>\n",
              "    .dataframe tbody tr th:only-of-type {\n",
              "        vertical-align: middle;\n",
              "    }\n",
              "\n",
              "    .dataframe tbody tr th {\n",
              "        vertical-align: top;\n",
              "    }\n",
              "\n",
              "    .dataframe thead th {\n",
              "        text-align: right;\n",
              "    }\n",
              "</style>\n",
              "<table border=\"1\" class=\"dataframe\">\n",
              "  <thead>\n",
              "    <tr style=\"text-align: right;\">\n",
              "      <th></th>\n",
              "      <th>Airline</th>\n",
              "      <th>Source</th>\n",
              "      <th>Destination</th>\n",
              "      <th>Departure Date &amp; Time</th>\n",
              "      <th>Arrival Date &amp; Time</th>\n",
              "      <th>Duration (hrs)</th>\n",
              "      <th>Stopovers</th>\n",
              "      <th>Aircraft Type</th>\n",
              "      <th>Class</th>\n",
              "      <th>Booking Source</th>\n",
              "      <th>Base Fare (BDT)</th>\n",
              "      <th>Tax &amp; Surcharge (BDT)</th>\n",
              "      <th>Total Fare (BDT)</th>\n",
              "      <th>Seasonality</th>\n",
              "      <th>Days Before Departure</th>\n",
              "      <th>Departure_Day</th>\n",
              "      <th>Departure_Month</th>\n",
              "    </tr>\n",
              "  </thead>\n",
              "  <tbody>\n",
              "    <tr>\n",
              "      <th>0</th>\n",
              "      <td>Malaysian Airlines</td>\n",
              "      <td>CXB</td>\n",
              "      <td>CCU</td>\n",
              "      <td>2025-11-17 06:25:00</td>\n",
              "      <td>2025-11-17 07:38:10</td>\n",
              "      <td>1.219526</td>\n",
              "      <td>Direct</td>\n",
              "      <td>Airbus A320</td>\n",
              "      <td>Economy</td>\n",
              "      <td>Online Website</td>\n",
              "      <td>21131.225021</td>\n",
              "      <td>5169.683753</td>\n",
              "      <td>26300.908775</td>\n",
              "      <td>Regular</td>\n",
              "      <td>10</td>\n",
              "      <td>17</td>\n",
              "      <td>11</td>\n",
              "    </tr>\n",
              "    <tr>\n",
              "      <th>1</th>\n",
              "      <td>Cathay Pacific</td>\n",
              "      <td>BZL</td>\n",
              "      <td>CGP</td>\n",
              "      <td>2025-03-16 00:17:00</td>\n",
              "      <td>2025-03-16 00:53:31</td>\n",
              "      <td>0.608638</td>\n",
              "      <td>Direct</td>\n",
              "      <td>Airbus A320</td>\n",
              "      <td>First Class</td>\n",
              "      <td>Travel Agency</td>\n",
              "      <td>11605.395471</td>\n",
              "      <td>200.000000</td>\n",
              "      <td>11805.395471</td>\n",
              "      <td>Regular</td>\n",
              "      <td>14</td>\n",
              "      <td>16</td>\n",
              "      <td>3</td>\n",
              "    </tr>\n",
              "    <tr>\n",
              "      <th>2</th>\n",
              "      <td>British Airways</td>\n",
              "      <td>ZYL</td>\n",
              "      <td>KUL</td>\n",
              "      <td>2025-12-13 12:03:00</td>\n",
              "      <td>2025-12-13 14:44:22</td>\n",
              "      <td>2.689651</td>\n",
              "      <td>1 Stop</td>\n",
              "      <td>Boeing 787</td>\n",
              "      <td>Economy</td>\n",
              "      <td>Travel Agency</td>\n",
              "      <td>39882.499349</td>\n",
              "      <td>11982.374902</td>\n",
              "      <td>51864.874251</td>\n",
              "      <td>Winter Holidays</td>\n",
              "      <td>83</td>\n",
              "      <td>13</td>\n",
              "      <td>12</td>\n",
              "    </tr>\n",
              "    <tr>\n",
              "      <th>3</th>\n",
              "      <td>Singapore Airlines</td>\n",
              "      <td>RJH</td>\n",
              "      <td>DAC</td>\n",
              "      <td>2025-05-30 03:21:00</td>\n",
              "      <td>2025-05-30 04:02:09</td>\n",
              "      <td>0.686054</td>\n",
              "      <td>Direct</td>\n",
              "      <td>Airbus A320</td>\n",
              "      <td>Economy</td>\n",
              "      <td>Direct Booking</td>\n",
              "      <td>4435.607340</td>\n",
              "      <td>200.000000</td>\n",
              "      <td>4635.607340</td>\n",
              "      <td>Regular</td>\n",
              "      <td>56</td>\n",
              "      <td>30</td>\n",
              "      <td>5</td>\n",
              "    </tr>\n",
              "    <tr>\n",
              "      <th>4</th>\n",
              "      <td>British Airways</td>\n",
              "      <td>SPD</td>\n",
              "      <td>YYZ</td>\n",
              "      <td>2025-04-25 09:14:00</td>\n",
              "      <td>2025-04-25 23:17:20</td>\n",
              "      <td>14.055609</td>\n",
              "      <td>1 Stop</td>\n",
              "      <td>Airbus A350</td>\n",
              "      <td>Business</td>\n",
              "      <td>Direct Booking</td>\n",
              "      <td>59243.806146</td>\n",
              "      <td>14886.570922</td>\n",
              "      <td>74130.377068</td>\n",
              "      <td>Regular</td>\n",
              "      <td>90</td>\n",
              "      <td>25</td>\n",
              "      <td>4</td>\n",
              "    </tr>\n",
              "  </tbody>\n",
              "</table>\n",
              "</div>\n",
              "    <div class=\"colab-df-buttons\">\n",
              "\n",
              "  <div class=\"colab-df-container\">\n",
              "    <button class=\"colab-df-convert\" onclick=\"convertToInteractive('df-20fa3a2c-54b0-4d47-91f2-e2399941a6fc')\"\n",
              "            title=\"Convert this dataframe to an interactive table.\"\n",
              "            style=\"display:none;\">\n",
              "\n",
              "  <svg xmlns=\"http://www.w3.org/2000/svg\" height=\"24px\" viewBox=\"0 -960 960 960\">\n",
              "    <path d=\"M120-120v-720h720v720H120Zm60-500h600v-160H180v160Zm220 220h160v-160H400v160Zm0 220h160v-160H400v160ZM180-400h160v-160H180v160Zm440 0h160v-160H620v160ZM180-180h160v-160H180v160Zm440 0h160v-160H620v160Z\"/>\n",
              "  </svg>\n",
              "    </button>\n",
              "\n",
              "  <style>\n",
              "    .colab-df-container {\n",
              "      display:flex;\n",
              "      gap: 12px;\n",
              "    }\n",
              "\n",
              "    .colab-df-convert {\n",
              "      background-color: #E8F0FE;\n",
              "      border: none;\n",
              "      border-radius: 50%;\n",
              "      cursor: pointer;\n",
              "      display: none;\n",
              "      fill: #1967D2;\n",
              "      height: 32px;\n",
              "      padding: 0 0 0 0;\n",
              "      width: 32px;\n",
              "    }\n",
              "\n",
              "    .colab-df-convert:hover {\n",
              "      background-color: #E2EBFA;\n",
              "      box-shadow: 0px 1px 2px rgba(60, 64, 67, 0.3), 0px 1px 3px 1px rgba(60, 64, 67, 0.15);\n",
              "      fill: #174EA6;\n",
              "    }\n",
              "\n",
              "    .colab-df-buttons div {\n",
              "      margin-bottom: 4px;\n",
              "    }\n",
              "\n",
              "    [theme=dark] .colab-df-convert {\n",
              "      background-color: #3B4455;\n",
              "      fill: #D2E3FC;\n",
              "    }\n",
              "\n",
              "    [theme=dark] .colab-df-convert:hover {\n",
              "      background-color: #434B5C;\n",
              "      box-shadow: 0px 1px 3px 1px rgba(0, 0, 0, 0.15);\n",
              "      filter: drop-shadow(0px 1px 2px rgba(0, 0, 0, 0.3));\n",
              "      fill: #FFFFFF;\n",
              "    }\n",
              "  </style>\n",
              "\n",
              "    <script>\n",
              "      const buttonEl =\n",
              "        document.querySelector('#df-20fa3a2c-54b0-4d47-91f2-e2399941a6fc button.colab-df-convert');\n",
              "      buttonEl.style.display =\n",
              "        google.colab.kernel.accessAllowed ? 'block' : 'none';\n",
              "\n",
              "      async function convertToInteractive(key) {\n",
              "        const element = document.querySelector('#df-20fa3a2c-54b0-4d47-91f2-e2399941a6fc');\n",
              "        const dataTable =\n",
              "          await google.colab.kernel.invokeFunction('convertToInteractive',\n",
              "                                                    [key], {});\n",
              "        if (!dataTable) return;\n",
              "\n",
              "        const docLinkHtml = 'Like what you see? Visit the ' +\n",
              "          '<a target=\"_blank\" href=https://colab.research.google.com/notebooks/data_table.ipynb>data table notebook</a>'\n",
              "          + ' to learn more about interactive tables.';\n",
              "        element.innerHTML = '';\n",
              "        dataTable['output_type'] = 'display_data';\n",
              "        await google.colab.output.renderOutput(dataTable, element);\n",
              "        const docLink = document.createElement('div');\n",
              "        docLink.innerHTML = docLinkHtml;\n",
              "        element.appendChild(docLink);\n",
              "      }\n",
              "    </script>\n",
              "  </div>\n",
              "\n",
              "\n",
              "    <div id=\"df-b5c16804-5f2d-46f6-9f96-da654342261a\">\n",
              "      <button class=\"colab-df-quickchart\" onclick=\"quickchart('df-b5c16804-5f2d-46f6-9f96-da654342261a')\"\n",
              "                title=\"Suggest charts\"\n",
              "                style=\"display:none;\">\n",
              "\n",
              "<svg xmlns=\"http://www.w3.org/2000/svg\" height=\"24px\"viewBox=\"0 0 24 24\"\n",
              "     width=\"24px\">\n",
              "    <g>\n",
              "        <path d=\"M19 3H5c-1.1 0-2 .9-2 2v14c0 1.1.9 2 2 2h14c1.1 0 2-.9 2-2V5c0-1.1-.9-2-2-2zM9 17H7v-7h2v7zm4 0h-2V7h2v10zm4 0h-2v-4h2v4z\"/>\n",
              "    </g>\n",
              "</svg>\n",
              "      </button>\n",
              "\n",
              "<style>\n",
              "  .colab-df-quickchart {\n",
              "      --bg-color: #E8F0FE;\n",
              "      --fill-color: #1967D2;\n",
              "      --hover-bg-color: #E2EBFA;\n",
              "      --hover-fill-color: #174EA6;\n",
              "      --disabled-fill-color: #AAA;\n",
              "      --disabled-bg-color: #DDD;\n",
              "  }\n",
              "\n",
              "  [theme=dark] .colab-df-quickchart {\n",
              "      --bg-color: #3B4455;\n",
              "      --fill-color: #D2E3FC;\n",
              "      --hover-bg-color: #434B5C;\n",
              "      --hover-fill-color: #FFFFFF;\n",
              "      --disabled-bg-color: #3B4455;\n",
              "      --disabled-fill-color: #666;\n",
              "  }\n",
              "\n",
              "  .colab-df-quickchart {\n",
              "    background-color: var(--bg-color);\n",
              "    border: none;\n",
              "    border-radius: 50%;\n",
              "    cursor: pointer;\n",
              "    display: none;\n",
              "    fill: var(--fill-color);\n",
              "    height: 32px;\n",
              "    padding: 0;\n",
              "    width: 32px;\n",
              "  }\n",
              "\n",
              "  .colab-df-quickchart:hover {\n",
              "    background-color: var(--hover-bg-color);\n",
              "    box-shadow: 0 1px 2px rgba(60, 64, 67, 0.3), 0 1px 3px 1px rgba(60, 64, 67, 0.15);\n",
              "    fill: var(--button-hover-fill-color);\n",
              "  }\n",
              "\n",
              "  .colab-df-quickchart-complete:disabled,\n",
              "  .colab-df-quickchart-complete:disabled:hover {\n",
              "    background-color: var(--disabled-bg-color);\n",
              "    fill: var(--disabled-fill-color);\n",
              "    box-shadow: none;\n",
              "  }\n",
              "\n",
              "  .colab-df-spinner {\n",
              "    border: 2px solid var(--fill-color);\n",
              "    border-color: transparent;\n",
              "    border-bottom-color: var(--fill-color);\n",
              "    animation:\n",
              "      spin 1s steps(1) infinite;\n",
              "  }\n",
              "\n",
              "  @keyframes spin {\n",
              "    0% {\n",
              "      border-color: transparent;\n",
              "      border-bottom-color: var(--fill-color);\n",
              "      border-left-color: var(--fill-color);\n",
              "    }\n",
              "    20% {\n",
              "      border-color: transparent;\n",
              "      border-left-color: var(--fill-color);\n",
              "      border-top-color: var(--fill-color);\n",
              "    }\n",
              "    30% {\n",
              "      border-color: transparent;\n",
              "      border-left-color: var(--fill-color);\n",
              "      border-top-color: var(--fill-color);\n",
              "      border-right-color: var(--fill-color);\n",
              "    }\n",
              "    40% {\n",
              "      border-color: transparent;\n",
              "      border-right-color: var(--fill-color);\n",
              "      border-top-color: var(--fill-color);\n",
              "    }\n",
              "    60% {\n",
              "      border-color: transparent;\n",
              "      border-right-color: var(--fill-color);\n",
              "    }\n",
              "    80% {\n",
              "      border-color: transparent;\n",
              "      border-right-color: var(--fill-color);\n",
              "      border-bottom-color: var(--fill-color);\n",
              "    }\n",
              "    90% {\n",
              "      border-color: transparent;\n",
              "      border-bottom-color: var(--fill-color);\n",
              "    }\n",
              "  }\n",
              "</style>\n",
              "\n",
              "      <script>\n",
              "        async function quickchart(key) {\n",
              "          const quickchartButtonEl =\n",
              "            document.querySelector('#' + key + ' button');\n",
              "          quickchartButtonEl.disabled = true;  // To prevent multiple clicks.\n",
              "          quickchartButtonEl.classList.add('colab-df-spinner');\n",
              "          try {\n",
              "            const charts = await google.colab.kernel.invokeFunction(\n",
              "                'suggestCharts', [key], {});\n",
              "          } catch (error) {\n",
              "            console.error('Error during call to suggestCharts:', error);\n",
              "          }\n",
              "          quickchartButtonEl.classList.remove('colab-df-spinner');\n",
              "          quickchartButtonEl.classList.add('colab-df-quickchart-complete');\n",
              "        }\n",
              "        (() => {\n",
              "          let quickchartButtonEl =\n",
              "            document.querySelector('#df-b5c16804-5f2d-46f6-9f96-da654342261a button');\n",
              "          quickchartButtonEl.style.display =\n",
              "            google.colab.kernel.accessAllowed ? 'block' : 'none';\n",
              "        })();\n",
              "      </script>\n",
              "    </div>\n",
              "\n",
              "    </div>\n",
              "  </div>\n"
            ],
            "application/vnd.google.colaboratory.intrinsic+json": {
              "type": "dataframe",
              "variable_name": "flight_f2",
              "summary": "{\n  \"name\": \"flight_f2\",\n  \"rows\": 57000,\n  \"fields\": [\n    {\n      \"column\": \"Airline\",\n      \"properties\": {\n        \"dtype\": \"category\",\n        \"num_unique_values\": 24,\n        \"samples\": [\n          \"Gulf Air\",\n          \"Air India\",\n          \"Malaysian Airlines\"\n        ],\n        \"semantic_type\": \"\",\n        \"description\": \"\"\n      }\n    },\n    {\n      \"column\": \"Source\",\n      \"properties\": {\n        \"dtype\": \"category\",\n        \"num_unique_values\": 8,\n        \"samples\": [\n          \"BZL\",\n          \"JSR\",\n          \"CXB\"\n        ],\n        \"semantic_type\": \"\",\n        \"description\": \"\"\n      }\n    },\n    {\n      \"column\": \"Destination\",\n      \"properties\": {\n        \"dtype\": \"category\",\n        \"num_unique_values\": 20,\n        \"samples\": [\n          \"CCU\",\n          \"DOH\",\n          \"SIN\"\n        ],\n        \"semantic_type\": \"\",\n        \"description\": \"\"\n      }\n    },\n    {\n      \"column\": \"Departure Date & Time\",\n      \"properties\": {\n        \"dtype\": \"date\",\n        \"min\": \"2025-01-03 02:06:00\",\n        \"max\": \"2026-03-31 03:20:00\",\n        \"num_unique_values\": 54126,\n        \"samples\": [\n          \"2025-03-18 12:29:00\",\n          \"2025-06-17 13:05:00\",\n          \"2025-05-07 09:09:00\"\n        ],\n        \"semantic_type\": \"\",\n        \"description\": \"\"\n      }\n    },\n    {\n      \"column\": \"Arrival Date & Time\",\n      \"properties\": {\n        \"dtype\": \"date\",\n        \"min\": \"2025-01-03 09:35:00\",\n        \"max\": \"2026-03-31 05:18:44\",\n        \"num_unique_values\": 56944,\n        \"samples\": [\n          \"2025-11-09 10:20:29\",\n          \"2025-03-13 14:41:59\",\n          \"2025-06-03 17:17:02\"\n        ],\n        \"semantic_type\": \"\",\n        \"description\": \"\"\n      }\n    },\n    {\n      \"column\": \"Duration (hrs)\",\n      \"properties\": {\n        \"dtype\": \"number\",\n        \"std\": 4.094042529800683,\n        \"min\": 0.5,\n        \"max\": 15.83171913401724,\n        \"num_unique_values\": 53135,\n        \"samples\": [\n          1.1035303891796158,\n          2.0287485996955907,\n          7.1651247106788585\n        ],\n        \"semantic_type\": \"\",\n        \"description\": \"\"\n      }\n    },\n    {\n      \"column\": \"Stopovers\",\n      \"properties\": {\n        \"dtype\": \"category\",\n        \"num_unique_values\": 3,\n        \"samples\": [\n          \"Direct\",\n          \"1 Stop\",\n          \"2 Stops\"\n        ],\n        \"semantic_type\": \"\",\n        \"description\": \"\"\n      }\n    },\n    {\n      \"column\": \"Aircraft Type\",\n      \"properties\": {\n        \"dtype\": \"category\",\n        \"num_unique_values\": 5,\n        \"samples\": [\n          \"Boeing 787\",\n          \"Boeing 737\",\n          \"Airbus A350\"\n        ],\n        \"semantic_type\": \"\",\n        \"description\": \"\"\n      }\n    },\n    {\n      \"column\": \"Class\",\n      \"properties\": {\n        \"dtype\": \"category\",\n        \"num_unique_values\": 3,\n        \"samples\": [\n          \"Economy\",\n          \"First Class\",\n          \"Business\"\n        ],\n        \"semantic_type\": \"\",\n        \"description\": \"\"\n      }\n    },\n    {\n      \"column\": \"Booking Source\",\n      \"properties\": {\n        \"dtype\": \"category\",\n        \"num_unique_values\": 3,\n        \"samples\": [\n          \"Online Website\",\n          \"Travel Agency\",\n          \"Direct Booking\"\n        ],\n        \"semantic_type\": \"\",\n        \"description\": \"\"\n      }\n    },\n    {\n      \"column\": \"Base Fare (BDT)\",\n      \"properties\": {\n        \"dtype\": \"number\",\n        \"std\": 68840.6144989146,\n        \"min\": 1600.9756881504618,\n        \"max\": 449222.93377037166,\n        \"num_unique_values\": 57000,\n        \"samples\": [\n          3243.6805865199294,\n          55317.24453128397,\n          2398.866083660674\n        ],\n        \"semantic_type\": \"\",\n        \"description\": \"\"\n      }\n    },\n    {\n      \"column\": \"Tax & Surcharge (BDT)\",\n      \"properties\": {\n        \"dtype\": \"number\",\n        \"std\": 12124.344328813713,\n        \"min\": 200.0,\n        \"max\": 73383.44006555574,\n        \"num_unique_values\": 35969,\n        \"samples\": [\n          47911.65111585043,\n          16355.600339815075,\n          26178.697774057982\n        ],\n        \"semantic_type\": \"\",\n        \"description\": \"\"\n      }\n    },\n    {\n      \"column\": \"Total Fare (BDT)\",\n      \"properties\": {\n        \"dtype\": \"number\",\n        \"std\": 81769.19953622721,\n        \"min\": 1800.9756881504618,\n        \"max\": 558987.332444109,\n        \"num_unique_values\": 57000,\n        \"samples\": [\n          3443.6805865199294,\n          69614.83121097657,\n          2598.866083660674\n        ],\n        \"semantic_type\": \"\",\n        \"description\": \"\"\n      }\n    },\n    {\n      \"column\": \"Seasonality\",\n      \"properties\": {\n        \"dtype\": \"category\",\n        \"num_unique_values\": 4,\n        \"samples\": [\n          \"Winter Holidays\",\n          \"Hajj\",\n          \"Regular\"\n        ],\n        \"semantic_type\": \"\",\n        \"description\": \"\"\n      }\n    },\n    {\n      \"column\": \"Days Before Departure\",\n      \"properties\": {\n        \"dtype\": \"number\",\n        \"std\": 26,\n        \"min\": 1,\n        \"max\": 90,\n        \"num_unique_values\": 90,\n        \"samples\": [\n          81,\n          3,\n          51\n        ],\n        \"semantic_type\": \"\",\n        \"description\": \"\"\n      }\n    },\n    {\n      \"column\": \"Departure_Day\",\n      \"properties\": {\n        \"dtype\": \"int32\",\n        \"num_unique_values\": 31,\n        \"samples\": [\n          19,\n          2,\n          9\n        ],\n        \"semantic_type\": \"\",\n        \"description\": \"\"\n      }\n    },\n    {\n      \"column\": \"Departure_Month\",\n      \"properties\": {\n        \"dtype\": \"int32\",\n        \"num_unique_values\": 12,\n        \"samples\": [\n          2,\n          9,\n          11\n        ],\n        \"semantic_type\": \"\",\n        \"description\": \"\"\n      }\n    }\n  ]\n}"
            }
          },
          "metadata": {},
          "execution_count": 13
        }
      ],
      "source": [
        "flight_f2.head()"
      ]
    },
    {
      "cell_type": "markdown",
      "metadata": {
        "id": "ICZacJvz4thx"
      },
      "source": [
        "## Step 3: Data cleaning"
      ]
    },
    {
      "cell_type": "markdown",
      "metadata": {
        "id": "YRKMKVThyGXX"
      },
      "source": [
        "### Step 3.1: Check for duplicate or unnecessary data"
      ]
    },
    {
      "cell_type": "markdown",
      "metadata": {
        "id": "d3eYpWwqIMS6"
      },
      "source": [
        "### Check for Duplicate and Missing Values  \n",
        "Count the number of fully duplicate rows and summarize missing values per column to assess data completeness.  \n"
      ]
    },
    {
      "cell_type": "code",
      "execution_count": null,
      "metadata": {
        "colab": {
          "base_uri": "https://localhost:8080/"
        },
        "id": "ADk8auA7Zd0H",
        "outputId": "55e78714-1ff9-428f-d09a-1a49be6a4bd4"
      },
      "outputs": [
        {
          "output_type": "stream",
          "name": "stdout",
          "text": [
            "Number of duplicate : 0\n"
          ]
        }
      ],
      "source": [
        "duplicates = flight_f2.duplicated().sum()\n",
        "print(\"Number of duplicate :\", duplicates)"
      ]
    },
    {
      "cell_type": "markdown",
      "metadata": {
        "id": "9LSNQogcyW_W"
      },
      "source": [
        "### Step 3.2: Check for null values or missing data"
      ]
    },
    {
      "cell_type": "code",
      "execution_count": null,
      "metadata": {
        "colab": {
          "base_uri": "https://localhost:8080/",
          "height": 617
        },
        "id": "_HAdrRGFd0C1",
        "outputId": "5d955306-acff-4a39-d39f-0a00a33c6c63"
      },
      "outputs": [
        {
          "output_type": "execute_result",
          "data": {
            "text/plain": [
              "Airline                  0\n",
              "Source                   0\n",
              "Destination              0\n",
              "Departure Date & Time    0\n",
              "Arrival Date & Time      0\n",
              "Duration (hrs)           0\n",
              "Stopovers                0\n",
              "Aircraft Type            0\n",
              "Class                    0\n",
              "Booking Source           0\n",
              "Base Fare (BDT)          0\n",
              "Tax & Surcharge (BDT)    0\n",
              "Total Fare (BDT)         0\n",
              "Seasonality              0\n",
              "Days Before Departure    0\n",
              "Departure_Day            0\n",
              "Departure_Month          0\n",
              "dtype: int64"
            ],
            "text/html": [
              "<div>\n",
              "<style scoped>\n",
              "    .dataframe tbody tr th:only-of-type {\n",
              "        vertical-align: middle;\n",
              "    }\n",
              "\n",
              "    .dataframe tbody tr th {\n",
              "        vertical-align: top;\n",
              "    }\n",
              "\n",
              "    .dataframe thead th {\n",
              "        text-align: right;\n",
              "    }\n",
              "</style>\n",
              "<table border=\"1\" class=\"dataframe\">\n",
              "  <thead>\n",
              "    <tr style=\"text-align: right;\">\n",
              "      <th></th>\n",
              "      <th>0</th>\n",
              "    </tr>\n",
              "  </thead>\n",
              "  <tbody>\n",
              "    <tr>\n",
              "      <th>Airline</th>\n",
              "      <td>0</td>\n",
              "    </tr>\n",
              "    <tr>\n",
              "      <th>Source</th>\n",
              "      <td>0</td>\n",
              "    </tr>\n",
              "    <tr>\n",
              "      <th>Destination</th>\n",
              "      <td>0</td>\n",
              "    </tr>\n",
              "    <tr>\n",
              "      <th>Departure Date &amp; Time</th>\n",
              "      <td>0</td>\n",
              "    </tr>\n",
              "    <tr>\n",
              "      <th>Arrival Date &amp; Time</th>\n",
              "      <td>0</td>\n",
              "    </tr>\n",
              "    <tr>\n",
              "      <th>Duration (hrs)</th>\n",
              "      <td>0</td>\n",
              "    </tr>\n",
              "    <tr>\n",
              "      <th>Stopovers</th>\n",
              "      <td>0</td>\n",
              "    </tr>\n",
              "    <tr>\n",
              "      <th>Aircraft Type</th>\n",
              "      <td>0</td>\n",
              "    </tr>\n",
              "    <tr>\n",
              "      <th>Class</th>\n",
              "      <td>0</td>\n",
              "    </tr>\n",
              "    <tr>\n",
              "      <th>Booking Source</th>\n",
              "      <td>0</td>\n",
              "    </tr>\n",
              "    <tr>\n",
              "      <th>Base Fare (BDT)</th>\n",
              "      <td>0</td>\n",
              "    </tr>\n",
              "    <tr>\n",
              "      <th>Tax &amp; Surcharge (BDT)</th>\n",
              "      <td>0</td>\n",
              "    </tr>\n",
              "    <tr>\n",
              "      <th>Total Fare (BDT)</th>\n",
              "      <td>0</td>\n",
              "    </tr>\n",
              "    <tr>\n",
              "      <th>Seasonality</th>\n",
              "      <td>0</td>\n",
              "    </tr>\n",
              "    <tr>\n",
              "      <th>Days Before Departure</th>\n",
              "      <td>0</td>\n",
              "    </tr>\n",
              "    <tr>\n",
              "      <th>Departure_Day</th>\n",
              "      <td>0</td>\n",
              "    </tr>\n",
              "    <tr>\n",
              "      <th>Departure_Month</th>\n",
              "      <td>0</td>\n",
              "    </tr>\n",
              "  </tbody>\n",
              "</table>\n",
              "</div><br><label><b>dtype:</b> int64</label>"
            ]
          },
          "metadata": {},
          "execution_count": 15
        }
      ],
      "source": [
        "flight_f2.isnull().sum()"
      ]
    },
    {
      "cell_type": "markdown",
      "metadata": {
        "id": "d5YJ46LAzQ3h"
      },
      "source": [
        "### Step 3.3: Check for outliers and handle outlier"
      ]
    },
    {
      "cell_type": "markdown",
      "metadata": {
        "id": "bHT_Cv93IMS6"
      },
      "source": [
        "\n",
        "\n",
        "```\n",
        "# This is formatted as code\n",
        "```\n",
        "\n",
        "### Visualize Outliers in Numeric Features  \n",
        "Use boxplots to inspect the distribution and detect outliers for key fare-related columns.  \n"
      ]
    },
    {
      "cell_type": "code",
      "execution_count": null,
      "metadata": {
        "colab": {
          "base_uri": "https://localhost:8080/",
          "height": 328
        },
        "id": "pdkQ977F-MHI",
        "outputId": "4816b0ea-5996-44bc-c6c4-21a3f776c6f1",
        "scrolled": true
      },
      "outputs": [
        {
          "output_type": "display_data",
          "data": {
            "text/plain": [
              "<Figure size 1200x600 with 4 Axes>"
            ],
            "image/png": "[encoded data removed]"
          },
          "metadata": {}
        }
      ],
      "source": [
        "num_col = ['Base Fare (BDT)', 'Tax & Surcharge (BDT)', 'Total Fare (BDT)','Days Before Departure']\n",
        "\n",
        "plt.figure(figsize=(12, 6))\n",
        "\n",
        "for i, col in enumerate(num_col, 1):\n",
        "    plt.subplot(2, 4, i)\n",
        "    sns.boxplot(y=flight_f2[col], color='skyblue')\n",
        "    plt.title(col)\n",
        "    plt.ylabel('Fare (BDT)')\n",
        "\n",
        "plt.tight_layout()\n",
        "plt.show()"
      ]
    },
    {
      "cell_type": "markdown",
      "source": [
        "**Intent of the Plot:**\n",
        "\n",
        "Intent of the Plot:\n",
        "The combined box plots show the distribution and variation of four flight pricing factors: Base Fare, Tax & Surcharge, Total Fare, and Days Before Departure. The goal is to understand how fares and booking times vary, how spread out the data is, and if there are outliers or skewness.\n",
        "\n",
        "Short Description:\n",
        "\n",
        "The first three plots (Base Fare, Tax & Surcharge, and Total Fare) represent amounts in BDT, while the fourth (Days Before Departure) shows the number of days.\n",
        "\n",
        "Each plot displays the median (middle line), the interquartile range (the box), and the whiskers for normal data points. Small circles show outliers.\n",
        "\n",
        "**Interpretation:**\n",
        "\n",
        "Interpretation:\n",
        "\n",
        "Base Fare, Tax & Surcharge, and Total Fare have wide variation and many expensive outliers.\n",
        "\n",
        "Total Fare follows a similar pattern to Base Fare since it’s directly related.\n",
        "\n",
        "Days Before Departure is more balanced without extreme outliers."
      ],
      "metadata": {
        "id": "2Z__tJ61LzvJ"
      }
    },
    {
      "cell_type": "markdown",
      "metadata": {
        "id": "WnN7jSJxIMS6"
      },
      "source": [
        "### Report Min and Max Before Outlier Handling  \n",
        "Print the minimum and maximum values for each numeric column to quantify the range and identify extreme values.  \n"
      ]
    },
    {
      "cell_type": "code",
      "execution_count": null,
      "metadata": {
        "colab": {
          "base_uri": "https://localhost:8080/"
        },
        "id": "4qh8OHpRIMS6",
        "outputId": "55932bb1-d34b-4681-8d1d-f360e358bc2c"
      },
      "outputs": [
        {
          "output_type": "stream",
          "name": "stdout",
          "text": [
            "Before handling outliers for Base Fare (BDT) : Min = 1600.9756881504618 , Max = 449222.93377037166\n",
            "Before handling outliers for Tax & Surcharge (BDT) : Min = 200.0 , Max = 73383.44006555574\n",
            "Before handling outliers for Total Fare (BDT) : Min = 1800.9756881504618 , Max = 558987.332444109\n",
            "Before handling outliers for Days Before Departure : Min = 1 , Max = 90\n"
          ]
        }
      ],
      "source": [
        "import numpy as np\n",
        "\n",
        "\n",
        "for col in num_col:\n",
        "\n",
        "    print(\"Before handling outliers for\", col, \": Min =\", flight_f2[col].min(), \", Max =\", flight_f2[col].max())"
      ]
    },
    {
      "cell_type": "markdown",
      "metadata": {
        "id": "YZkI1tSE0SG_"
      },
      "source": [
        "## Step 4: Create histogram for numerical variable"
      ]
    },
    {
      "cell_type": "markdown",
      "metadata": {
        "id": "rYPaJ4AfIMS7"
      },
      "source": [
        "### Plot Histograms for Fare Features  \n",
        "These histograms with KDE show the distribution of base fare, taxes, and total fare, helping to understand skewness and common price ranges.  \n"
      ]
    },
    {
      "cell_type": "code",
      "execution_count": null,
      "metadata": {
        "colab": {
          "base_uri": "https://localhost:8080/",
          "height": 1000
        },
        "id": "4oFLCd1FNPMZ",
        "outputId": "cc46eef7-f254-459a-b1e1-2d8687149f8c"
      },
      "outputs": [
        {
          "output_type": "display_data",
          "data": {
            "text/plain": [
              "<Figure size 1800x1000 with 3 Axes>"
            ],
            "image/png": "[encoded data removed]"
          },
          "metadata": {}
        }
      ],
      "source": [
        "num_col = ['Base Fare (BDT)', 'Tax & Surcharge (BDT)', 'Total Fare (BDT)']\n",
        "\n",
        "plt.figure(figsize=(18, 10))\n",
        "for i, col in enumerate(num_col, 1):\n",
        "    plt.subplot(2, 2, i)\n",
        "    sns.histplot(flight_f2[col], kde=True, color='skyblue')\n",
        "    plt.title(f'Histogram of {col}')\n",
        "    plt.xlabel(col)\n",
        "    plt.ylabel('Frequency')\n",
        "\n",
        "plt.tight_layout()\n",
        "plt.show()"
      ]
    },
    {
      "cell_type": "markdown",
      "source": [
        "The histograms show the spread and shape of Base Fare, Tax & Surcharge, and Total Fare.\n",
        "\n",
        "All three distributions are highly right-skewed — most fares are low, but a few are extremely high.\n",
        "\n",
        "A smooth curve (KDE) is added to highlight the distribution shape.\n",
        "\n",
        "Most Total Fares are below 100,000 BDT.\n",
        "The Base Fare and Tax & Surcharge are skewed similarly, causing the Total Fare to also be skewed.\n",
        "\n",
        "\n"
      ],
      "metadata": {
        "id": "DJxtjszRNKO5"
      }
    },
    {
      "cell_type": "markdown",
      "metadata": {
        "id": "nBJ39iGz1mJ3"
      },
      "source": [
        "## Step 7: Check distribution using boxplot after removing outliers"
      ]
    },
    {
      "cell_type": "markdown",
      "metadata": {
        "id": "WewdvtYSIMS7"
      },
      "source": [
        "### Count Outliers per Fare Feature  \n",
        "Compute IQR-based lower/upper bounds and count how many values lie outside these limits for each fare column.  \n",
        "This quantifies the extent of extreme values before cleaning.  \n"
      ]
    },
    {
      "cell_type": "code",
      "execution_count": null,
      "metadata": {
        "colab": {
          "base_uri": "https://localhost:8080/"
        },
        "id": "WS7Sh1PIuIji",
        "outputId": "11ec7432-11cb-4ba4-a20f-c2512e823189"
      },
      "outputs": [
        {
          "output_type": "stream",
          "name": "stdout",
          "text": [
            "Base Fare (BDT) : 3772\n",
            "Tax & Surcharge (BDT) : 1226\n",
            "Total Fare (BDT) : 3409\n"
          ]
        }
      ],
      "source": [
        "for col in num_col:\n",
        "    Q1 = flight_f2[col].quantile(0.25)\n",
        "    Q3 = flight_f2[col].quantile(0.75)\n",
        "    IQR = Q3 - Q1\n",
        "    lower_bound = Q1 - 1.5 * IQR\n",
        "    upper_bound = Q3 + 1.5 * IQR\n",
        "    outliers = flight_f2[(flight_f2[col] < lower_bound) | (flight_f2[col] > upper_bound)]\n",
        "    print(col, \":\", len(outliers))"
      ]
    },
    {
      "cell_type": "markdown",
      "metadata": {
        "id": "0stDuXUHIMS_"
      },
      "source": [
        "### Clip Outliers to IQR Bounds  \n",
        "Create a cleaned copy by capping values at the calculated lower and upper IQR bounds to reduce the influence of extremes.  \n"
      ]
    },
    {
      "cell_type": "code",
      "execution_count": null,
      "metadata": {
        "id": "RHEv9W1izIr2"
      },
      "outputs": [],
      "source": [
        "flight_f2_clean = flight_f2.copy()\n",
        "for col in num_col:\n",
        "    Q1 = flight_f2[col].quantile(0.25)\n",
        "    Q3 = flight_f2[col].quantile(0.75)\n",
        "    IQR = Q3 - Q1\n",
        "    lower_bound = Q1 - 1.5 * IQR\n",
        "    upper_bound = Q3 + 1.5 * IQR\n",
        "    flight_f2_clean[col] = flight_f2_clean[col].clip(lower=lower_bound, upper=upper_bound)"
      ]
    },
    {
      "cell_type": "markdown",
      "metadata": {
        "id": "iaaz6xbIIMS_"
      },
      "source": [
        "### Boxplots After Outlier Handling  \n",
        "Visualize the effect of clipping by red boxplots, confirming that extreme whiskers have been brought within bounds.  \n"
      ]
    },
    {
      "cell_type": "code",
      "execution_count": null,
      "metadata": {
        "colab": {
          "base_uri": "https://localhost:8080/",
          "height": 328
        },
        "id": "dMF-6Kvr_Qgv",
        "outputId": "72435927-8a85-4d92-98a8-46a341864bf9"
      },
      "outputs": [
        {
          "output_type": "display_data",
          "data": {
            "text/plain": [
              "<Figure size 1200x600 with 3 Axes>"
            ],
            "image/png": "[encoded data removed]"
          },
          "metadata": {}
        }
      ],
      "source": [
        "plt.figure(figsize=(12, 6))\n",
        "for i, col in enumerate(num_col, 1):\n",
        "    plt.subplot(2, 4, i)\n",
        "    sns.boxplot(y=flight_f2_clean[col], color='red')\n",
        "    plt.title(col)\n",
        "    plt.ylabel('Price of Fare (in BDT)')\n",
        "\n",
        "plt.tight_layout()\n",
        "plt.show()"
      ]
    },
    {
      "cell_type": "markdown",
      "source": [
        "\n",
        "\n",
        "*   Base Fare (BDT):\n",
        "\n",
        "1.   Middle 50% (IQR): 8,856.32 BDT to 85,722.93 BDT.\n",
        "2.  Median: ~47,000 BDT.\n",
        "3.  Whiskers: 0 BDT to 175,000 BDT.\n",
        "4.   No outliers (removed).\n",
        "\n",
        "* Tax & Surcharge (BDT):\n",
        "1. Middle 50% (IQR): 200.0 BDT to 17,513.05 BDT.\n",
        "2. Median: ~8,000 BDT.\n",
        "3. Whiskers: 0 BDT to 35,000 BDT.\n",
        "4. No outliers (removed).\n",
        "\n",
        "* Total Fare (BDT):\n",
        "1. Middle 50% (IQR): 9,602.70 BDT to 103,800.91 BDT.\n",
        "2. Median: ~55,000 BDT.\n",
        "3. Whiskers: 0 BDT to 210,000 BDT.\n",
        "4. No outliers (removed).\n",
        "\n",
        "\n"
      ],
      "metadata": {
        "id": "DKyLM6_qOFY6"
      }
    },
    {
      "cell_type": "markdown",
      "metadata": {
        "id": "cdyuZkpEIMTA"
      },
      "source": [
        "### Report Min/Max After Cleaning  \n",
        "Print the new minimum and maximum values for each fare column to verify that outliers have been capped correctly.  \n"
      ]
    },
    {
      "cell_type": "code",
      "execution_count": null,
      "metadata": {
        "colab": {
          "base_uri": "https://localhost:8080/"
        },
        "id": "aWum2lMiIMTA",
        "outputId": "e0e97046-f47d-42d2-863a-e9d9a8bebd6d"
      },
      "outputs": [
        {
          "output_type": "stream",
          "name": "stdout",
          "text": [
            "After handling outliers for Base Fare (BDT) : Min = 1600.9756881504618 , Max = 201022.85049769032\n",
            "After handling outliers for Tax & Surcharge (BDT) : Min = 200.0 , Max = 43482.61539889917\n",
            "After handling outliers for Total Fare (BDT) : Min = 1800.9756881504618 , Max = 245098.21772608167\n"
          ]
        }
      ],
      "source": [
        "import numpy as np\n",
        "\n",
        "for col in num_col:\n",
        "    print(\"After handling outliers for\", col,\n",
        "          \": Min =\", flight_f2_clean[col].min(),\n",
        "          \", Max =\", flight_f2_clean[col].max())\n"
      ]
    },
    {
      "cell_type": "markdown",
      "metadata": {
        "id": "Xveimm7pIMTA"
      },
      "source": [
        "### IQR Range for Cleaned Features  \n",
        "Compute and display the 25th–75th percentile range for each fare feature, representing the central distribution post-cleaning.  \n"
      ]
    },
    {
      "cell_type": "code",
      "execution_count": null,
      "metadata": {
        "colab": {
          "base_uri": "https://localhost:8080/"
        },
        "id": "u589g_FEIMTA",
        "outputId": "2312e0a9-515b-4e70-9c50-91fdd0226cbf"
      },
      "outputs": [
        {
          "output_type": "stream",
          "name": "stdout",
          "text": [
            "Range for Base Fare (BDT) : from 8856.31698280503 to 85722.93038875915\n",
            "Range for Tax & Surcharge (BDT) : from 200.0 to 17513.046159559668\n",
            "Range for Total Fare (BDT) : from 9602.699786836121 to 103800.90696253434\n"
          ]
        }
      ],
      "source": [
        "\n",
        "\n",
        "\n",
        "for col in num_col:\n",
        "    q1 = np.percentile(flight_f2_clean[col], 25)\n",
        "    q3 = np.percentile(flight_f2_clean[col], 75)\n",
        "    price_range_lower = q1\n",
        "    price_range_upper = q3\n",
        "    print(\"Range for\", col, \": from\", price_range_lower, \"to\", price_range_upper)"
      ]
    },
    {
      "cell_type": "markdown",
      "metadata": {
        "id": "4xztHNMZIMTB"
      },
      "source": [
        "### Histograms of Cleaned Fare Distributions  \n",
        "Plot KDE histograms for each fare column after outlier treatment to observe the smoothed data distribution and detect remaining skew.  \n"
      ]
    },
    {
      "cell_type": "code",
      "execution_count": null,
      "metadata": {
        "colab": {
          "base_uri": "https://localhost:8080/",
          "height": 379
        },
        "id": "TwfItJJmm1zo",
        "outputId": "585838d8-6942-43ee-c346-7a0e7c452632"
      },
      "outputs": [
        {
          "output_type": "display_data",
          "data": {
            "text/plain": [
              "<Figure size 2000x1000 with 3 Axes>"
            ],
            "image/png": "[encoded data removed]"
          },
          "metadata": {}
        }
      ],
      "source": [
        "\n",
        "plt.figure(figsize=(20, 10))\n",
        "for i, col in enumerate(num_col, 1):\n",
        "    plt.subplot(3, 3, i)\n",
        "    sns.histplot(flight_f2_clean[col], kde=True, color='skyblue')\n",
        "    plt.title(col)\n",
        "    plt.xlabel(col)\n",
        "    plt.ylabel('Frequency')\n",
        "\n",
        "plt.tight_layout()\n",
        "plt.show()"
      ]
    },
    {
      "cell_type": "markdown",
      "source": [
        "* **Base Fare (BDT):** The distribution is heavily skewed to the right, meaning most base fares are low. There is a large peak in frequency near 0 BDT, with frequencies decreasing significantly for higher fares. The data spreads out towards higher values, visible up to around 200,000 BDT.\n",
        "* **Tax & Surcharge (BDT):** This distribution is extremely skewed to the right. The vast majority of tax and surcharge values are concentrated in a very tall peak right at or near 0 BDT. Frequencies drop off very steeply for any higher amounts shown, up to around 40,000 BDT.\n",
        "* **Total Fare (BDT):** The distribution is also skewed to the right, but less extremely than Tax & Surcharge. There is a prominent peak in frequency near 0 BDT, and frequencies decrease as the total fare increases. The data extends up to around 250,000 BDT, showing that while lower fares are most common, higher total fares do occur with decreasing frequency."
      ],
      "metadata": {
        "id": "xBnDlWk_OsUm"
      }
    },
    {
      "cell_type": "code",
      "source": [
        "top_5_months=flight_f2_clean['Departure_Month']\n",
        "top_5_days = flight_f2_clean['Departure_Day']\n",
        "\n",
        "sorted_top_5_months = top_5_months.value_counts().sort_values(ascending=True).head(5)\n",
        "sorted_top_5_days = top_5_days.value_counts().sort_values(ascending=True).head(5)\n",
        "\n",
        "\n",
        "plt.figure(figsize=(18, 12))\n",
        "\n",
        "plt.subplot(2, 1, 1)\n",
        "ax1 = sns.barplot(x=sorted_top_5_days.index, y=sorted_top_5_days.values, color='skyblue', order =sorted_top_5_days.index)\n",
        "plt.title('Busiest Days of the Month')\n",
        "plt.xlabel('Day of the Month')\n",
        "plt.ylabel('Number of Flights')\n",
        "\n",
        "plt.subplot(2, 1, 2)\n",
        "ax2 = sns.barplot(x=sorted_top_5_months.index, y=sorted_top_5_months.values, color='lightcoral')\n",
        "plt.title('Busiest Months of the Year (Top 5)')\n",
        "plt.xlabel('Month')\n",
        "plt.ylabel('Number of Flights')\n",
        "\n",
        "plt.tight_layout()\n",
        "plt.show()\n"
      ],
      "metadata": {
        "colab": {
          "base_uri": "https://localhost:8080/",
          "height": 1000
        },
        "id": "akZ5RqWdhkhH",
        "outputId": "cd02884b-7d1b-4b85-b009-2a9d8885092d"
      },
      "execution_count": null,
      "outputs": [
        {
          "output_type": "display_data",
          "data": {
            "text/plain": [
              "<Figure size 1800x1200 with 2 Axes>"
            ],
            "image/png": "[encoded data removed]"
          },
          "metadata": {}
        }
      ]
    },
    {
      "cell_type": "markdown",
      "source": [
        "* The charts identify the **top 5 busiest days of the month** and the **top 5 busiest months of the year** by the number of flights.\n",
        "* For **Busiest Days of the Month**, days 17, 26, 29, 30, and 31 are shown as the busiest.\n",
        "* For **Busiest Months of the Year**, months 2 (February), 4 (April), 6 (June), 7 (July), and 9 (September) are highlighted as having the highest flight activity among the top months."
      ],
      "metadata": {
        "id": "BvT_NpO6tBC3"
      }
    },
    {
      "cell_type": "markdown",
      "metadata": {
        "id": "eoEKYx-EIMTB"
      },
      "source": [
        "### Average Total Fare by Seasonality  \n",
        "Group by categorical seasonality and plot mean total fare to reveal how ticket prices vary across seasons.  \n"
      ]
    },
    {
      "cell_type": "code",
      "execution_count": null,
      "metadata": {
        "colab": {
          "base_uri": "https://localhost:8080/"
        },
        "id": "cC1Xmb_xIMTB",
        "outputId": "59e642d6-a9aa-4071-ecec-ceedd0f75b3d"
      },
      "outputs": [
        {
          "output_type": "display_data",
          "data": {
            "text/plain": [
              "<Figure size 640x480 with 1 Axes>"
            ],
            "image/png": "[encoded data removed]"
          },
          "metadata": {}
        }
      ],
      "source": [
        "seasonal_prices = flight_f2_clean.groupby('Seasonality')['Total Fare (BDT)'].mean()\n",
        "\n",
        "seasonal_prices.plot.bar()\n",
        "\n",
        "plt.title('Average Ticket Prices by Seasonality')\n",
        "\n",
        "plt.show()\n",
        "\n"
      ]
    },
    {
      "cell_type": "markdown",
      "source": [
        "the chart indicates that average ticket prices are highest during Hajj and Eid periods, significantly lower during Regular periods, and moderately higher than Regular periods during Winter Holidays.\n",
        "\n",
        "\n",
        "\n"
      ],
      "metadata": {
        "id": "gvAkF_W6O_sr"
      }
    },
    {
      "cell_type": "markdown",
      "metadata": {
        "id": "avEHsvIU17yE"
      },
      "source": [
        "## Step 8: Use One hot encoding with Principal Component Analysis (PCA) for categorical data"
      ]
    },
    {
      "cell_type": "markdown",
      "metadata": {
        "id": "bbLb3JahIMTB"
      },
      "source": [
        "### Select and Clean Categorical Features  \n",
        "Define the list of categorical columns and drop any rows with missing values in these fields to ensure a complete encoding.  \n"
      ]
    },
    {
      "cell_type": "code",
      "execution_count": null,
      "metadata": {
        "id": "DBByXKPMIMTB"
      },
      "outputs": [],
      "source": [
        "cat_cols = ['Airline', 'Source', 'Destination', 'Stopovers', 'Aircraft Type', 'Class',\n",
        "            'Booking Source', 'Seasonality', 'Departure_Month', 'Departure_Day']\n",
        "\n",
        "flight_f2_clean = flight_f2_clean.dropna(subset=cat_cols)\n"
      ]
    },
    {
      "cell_type": "markdown",
      "metadata": {
        "id": "owEV50ErIMTB"
      },
      "source": [
        "### One-Hot Encode Categorical Variables  \n",
        "Apply OneHotEncoder to convert each category into binary indicator features, producing a dense array for modeling.  \n"
      ]
    },
    {
      "cell_type": "code",
      "execution_count": null,
      "metadata": {
        "id": "TVsCUFEgIMTC"
      },
      "outputs": [],
      "source": [
        "encoder = OneHotEncoder(sparse_output=False)\n",
        "encoded_data = encoder.fit_transform(flight_f2_clean[cat_cols])"
      ]
    },
    {
      "cell_type": "markdown",
      "metadata": {
        "id": "u9W6xs82IMTC"
      },
      "source": [
        "### Combine Encoded and Numeric Data, Then Standardize  \n",
        "Concatenate the one-hot matrix with the numeric ‘Departure_Day’, reset indices, and scale all features to zero mean and unit variance.  \n"
      ]
    },
    {
      "cell_type": "code",
      "execution_count": null,
      "metadata": {
        "id": "vnFv8xxmIMTC"
      },
      "outputs": [],
      "source": [
        "from sklearn.preprocessing import StandardScaler\n",
        "\n",
        "X_combined = pd.concat(\n",
        "    [pd.DataFrame(encoded_data), flight_f2_clean[['Departure_Day']].reset_index(drop=True)],\n",
        "    axis=1\n",
        ")\n",
        "X_combined.columns = X_combined.columns.astype(str)\n",
        "\n",
        "scaler = StandardScaler()\n",
        "X_scaled = scaler.fit_transform(X_combined)\n"
      ]
    },
    {
      "cell_type": "markdown",
      "metadata": {
        "id": "EeTxbNx4IMTC"
      },
      "source": [
        "### Determine PCA Components for 95% Variance  \n",
        "Fit PCA on the scaled data, compute cumulative explained variance, and select the number of components needed to exceed 95%.  \n"
      ]
    },
    {
      "cell_type": "code",
      "execution_count": null,
      "metadata": {
        "id": "ezMGoISZIMTC"
      },
      "outputs": [],
      "source": [
        "pca = PCA()\n",
        "pca.fit(X_scaled)\n",
        "cumulative_variance = pca.explained_variance_ratio_.cumsum()\n",
        "n_components_95 = (cumulative_variance <= 0.95).sum() + 1\n"
      ]
    },
    {
      "cell_type": "markdown",
      "metadata": {
        "id": "sOpoFt2TIMTC"
      },
      "source": [
        "### Apply PCA Reduction and Inspect Results  \n",
        "Refit PCA with the chosen component count, transform the data, and display the explained variance ratios and the first few PCA feature values.  \n"
      ]
    },
    {
      "cell_type": "code",
      "execution_count": null,
      "metadata": {
        "colab": {
          "base_uri": "https://localhost:8080/"
        },
        "id": "-nU1gyz7IMTC",
        "outputId": "88543b95-eade-48bd-c2b4-edb0e8538694"
      },
      "outputs": [
        {
          "output_type": "stream",
          "name": "stdout",
          "text": [
            "Number of components that explain 95% of the variance: 93\n",
            "Explained variance ratio for each component:\n",
            "[0.03475948 0.02514509 0.02099263 0.01835515 0.01354089 0.01327956\n",
            " 0.01323271 0.01321122 0.01309408 0.01252817 0.01069814 0.01067916\n",
            " 0.01067482 0.01062452 0.01060606 0.01060458 0.01058314 0.01048272\n",
            " 0.01024919 0.01018336 0.00994797 0.00989995 0.00975678 0.00974209\n",
            " 0.00973533 0.00970535 0.00969949 0.00967836 0.00961453 0.00956088\n",
            " 0.00953231 0.00950375 0.0094814  0.00947301 0.00944265 0.00942991\n",
            " 0.00941697 0.00940098 0.00938892 0.0093729  0.00934414 0.0093264\n",
            " 0.0093211  0.00930406 0.0092926  0.00928437 0.00926133 0.00923957\n",
            " 0.00922886 0.00922366 0.00920593 0.00919149 0.00918501 0.00916227\n",
            " 0.00915077 0.00914651 0.00911806 0.00911564 0.00910858 0.00908811\n",
            " 0.00907419 0.00906852 0.00904948 0.00904457 0.00902792 0.00901436\n",
            " 0.00901156 0.00899853 0.00899685 0.00897214 0.00895672 0.00894007\n",
            " 0.00893384 0.00893067 0.00890993 0.00890345 0.00888649 0.00887383\n",
            " 0.00886967 0.00884533 0.00882755 0.00880919 0.00878902 0.00877565\n",
            " 0.0087613  0.00874015 0.00871318 0.00869287 0.0086399  0.00860486\n",
            " 0.00858753 0.00855004 0.00852706]\n",
            "       PCA1      PCA2      PCA3      PCA4      PCA5      PCA6      PCA7  \\\n",
            "0  1.811814 -1.020224 -0.988452  0.151497 -0.913276  0.697977 -1.459868   \n",
            "1  1.850616 -0.898183 -0.977447  0.131034  0.005486 -1.280543 -0.040523   \n",
            "2 -1.359932  3.641019  2.222121  0.168075 -0.391589 -1.580813 -1.338019   \n",
            "3  1.871633 -1.154031 -1.053295  2.270924 -0.117550 -1.567435  0.533909   \n",
            "4 -2.978238 -1.091484 -0.887429  1.281010  0.064926  0.760224  1.474115   \n",
            "\n",
            "       PCA8      PCA9     PCA10  ...     PCA84     PCA85     PCA86     PCA87  \\\n",
            "0 -0.554574 -1.544445 -0.796144  ...  1.180986 -1.625531  0.572340 -0.001570   \n",
            "1  2.068105  0.615833  1.065211  ...  0.238750  1.062295  1.031248  1.375006   \n",
            "2 -0.088121  0.917574 -0.606205  ... -1.174338  0.386514 -2.396453 -0.697776   \n",
            "3 -2.054655 -0.772902  0.815335  ... -0.470259  0.096894  0.355727  1.239353   \n",
            "4 -1.190863  1.155519  0.686217  ... -0.566928  0.027937 -1.854147  0.955093   \n",
            "\n",
            "      PCA88     PCA89     PCA90     PCA91     PCA92     PCA93  \n",
            "0  0.482381 -1.392663 -0.512402  0.159990 -0.068153  1.151530  \n",
            "1  1.057980  0.668865 -1.634174  0.209546  2.583159 -0.073829  \n",
            "2 -0.854184 -0.911363 -0.997599 -0.232747 -1.809392  0.875664  \n",
            "3 -0.345689 -0.438051  1.342233 -2.220011 -0.230265  1.241750  \n",
            "4  0.582692 -1.626015  0.254218  0.633527 -1.120894 -0.559664  \n",
            "\n",
            "[5 rows x 93 columns]\n"
          ]
        }
      ],
      "source": [
        "pca = PCA(n_components=n_components_95)\n",
        "X_pca = pca.fit_transform(X_scaled)\n",
        "\n",
        "print(f\"Number of components that explain 95% of the variance: {n_components_95}\")\n",
        "print(\"Explained variance ratio for each component:\")\n",
        "print(pca.explained_variance_ratio_)\n",
        "\n",
        "pca_df = pd.DataFrame(X_pca, columns=[f'PCA{i+1}' for i in range(n_components_95)])\n",
        "print(pca_df.head())\n"
      ]
    },
    {
      "cell_type": "markdown",
      "metadata": {
        "id": "gjML5mW32K0K"
      },
      "source": [
        "## Step 9: Hypothesis Testing"
      ]
    },
    {
      "cell_type": "markdown",
      "metadata": {
        "id": "fwRxwp4Y2PX6"
      },
      "source": [
        "### Step 9.1: Create hypotheses"
      ]
    },
    {
      "cell_type": "markdown",
      "metadata": {
        "id": "-BH7b4szIMTD"
      },
      "source": [
        "#### Define Hypotheses for Data Analysis  \n",
        "List the key assumptions about duplicates, missing values, outliers, feature effects, and PCA to be tested quantitatively.  \n"
      ]
    },
    {
      "cell_type": "code",
      "execution_count": null,
      "metadata": {
        "colab": {
          "base_uri": "https://localhost:8080/"
        },
        "id": "JJCzRIykHP2e",
        "outputId": "6d5f2c3d-4e69-4f2c-a6d5-e305f72ca659"
      },
      "outputs": [
        {
          "output_type": "stream",
          "name": "stdout",
          "text": [
            "H1: The dataset contains duplicate records that should be removed to ensure accurate analysis.\n",
            "H2: Missing values, if present in any feature, may distort analysis and model performance.\n",
            "H3: Outliers exist in the fare-related columns (Base Fare, Tax & Surcharge, Total Fare) and may negatively affect model performance.\n",
            "H4: Removing or capping outliers in fare columns will lead to a more normal distribution and improve data quality.\n",
            "H5: The Total Fare is strongly correlated with both the Base Fare and the Tax & Surcharge.\n",
            "H6: The Base Fare contributes more to the Total Fare than the Tax & Surcharge.\n",
            "H7: The day, month, hour, and weekday of departure significantly influence flight prices.\n",
            "H8: Flights departing on weekends or during holiday seasons (high seasonality) are more expensive.\n",
            "H9: Airline choice significantly affects the total flight fare.\n",
            "H10: The number of stopovers, booking source, and travel class are major contributors to fare variation.\n",
            "H11: PCA on encoded categorical + temporal features can reduce dimensionality while retaining meaningful variation.\n",
            "H12: Visualizing the top two PCA components reveals natural clusters of flights based on similar fare-related characteristics.\n"
          ]
        }
      ],
      "source": [
        "hypotheses = [\n",
        "    \"H1: The dataset contains duplicate records that should be removed to ensure accurate analysis.\",\n",
        "    \"H2: Missing values, if present in any feature, may distort analysis and model performance.\",\n",
        "    \"H3: Outliers exist in the fare-related columns (Base Fare, Tax & Surcharge, Total Fare) and may negatively affect model performance.\",\n",
        "    \"H4: Removing or capping outliers in fare columns will lead to a more normal distribution and improve data quality.\",\n",
        "    \"H5: The Total Fare is strongly correlated with both the Base Fare and the Tax & Surcharge.\",\n",
        "    \"H6: The Base Fare contributes more to the Total Fare than the Tax & Surcharge.\",\n",
        "    \"H7: The day, month, hour, and weekday of departure significantly influence flight prices.\",\n",
        "    \"H8: Flights departing on weekends or during holiday seasons (high seasonality) are more expensive.\",\n",
        "    \"H9: Airline choice significantly affects the total flight fare.\",\n",
        "    \"H10: The number of stopovers, booking source, and travel class are major contributors to fare variation.\",\n",
        "    \"H11: PCA on encoded categorical + temporal features can reduce dimensionality while retaining meaningful variation.\",\n",
        "    \"H12: Visualizing the top two PCA components reveals natural clusters of flights based on similar fare-related characteristics.\"\n",
        "]\n",
        "\n",
        "for h in hypotheses:\n",
        "    print(h)"
      ]
    },
    {
      "cell_type": "markdown",
      "metadata": {
        "id": "VYWf15xJ4Qon"
      },
      "source": [
        "### Step 9.2: Statistical test"
      ]
    },
    {
      "cell_type": "markdown",
      "metadata": {
        "id": "HUfCnp_J4des"
      },
      "source": [
        "#### Pearson Correlation (H5 & H6)"
      ]
    },
    {
      "cell_type": "markdown",
      "metadata": {
        "id": "e7rVYtxZIMTD"
      },
      "source": [
        "#### Pearson Correlation between Numeric Features and Total Fare  \n",
        "Calculate Pearson’s r and p-value for base fare, tax, day and month against total fare to assess linear relationships.  \n"
      ]
    },
    {
      "cell_type": "code",
      "execution_count": null,
      "metadata": {
        "colab": {
          "base_uri": "https://localhost:8080/"
        },
        "id": "8xINO8p-3i9E",
        "outputId": "e4b3fd67-d638-4b25-8d4c-c9ae7653b1b8"
      },
      "outputs": [
        {
          "output_type": "stream",
          "name": "stdout",
          "text": [
            "Correlation between Base Fare (BDT) and Total Fare: r = 0.9985, p = 0.00000\n",
            "Correlation between Tax & Surcharge (BDT) and Total Fare: r = 0.9827, p = 0.00000\n",
            "Correlation between Total Fare (BDT) and Total Fare: r = 1.0000, p = 0.00000\n",
            "Correlation between Departure_Day and Total Fare: r = -0.0035, p = 0.39884\n",
            "Correlation between Departure_Month and Total Fare: r = -0.0075, p = 0.07190\n"
          ]
        }
      ],
      "source": [
        "from scipy.stats import pearsonr\n",
        "\n",
        "num_cols = ['Base Fare (BDT)', 'Tax & Surcharge (BDT)', 'Total Fare (BDT)', 'Departure_Day', 'Departure_Month']\n",
        "\n",
        "for col in num_cols:\n",
        "    corr, p_value = pearsonr(flight_f2_clean[col], flight_f2_clean['Total Fare (BDT)'])\n",
        "    print(f\"Correlation between {col} and Total Fare: r = {corr:.4f}, p = {p_value:.5f}\")"
      ]
    },
    {
      "cell_type": "markdown",
      "metadata": {
        "id": "E_H1RRKr4oto"
      },
      "source": [
        "If `p < 0.05`, the correlation is statistically significant.\n",
        "\n",
        "Higher `r` means stronger linear relationship.\n",
        "\n"
      ]
    },
    {
      "cell_type": "markdown",
      "metadata": {
        "id": "pBFfdPJ54tSJ"
      },
      "source": [
        "#### ANOVA Test (H9 & H10)"
      ]
    },
    {
      "cell_type": "markdown",
      "metadata": {
        "id": "QmS-LuhoIMTE"
      },
      "source": [
        "#### One-Way ANOVA for Categorical Features  \n",
        "Perform ANOVA tests on Total Fare grouped by airline, stopovers, class, booking source, and seasonality to check for significant mean differences.  \n"
      ]
    },
    {
      "cell_type": "code",
      "execution_count": null,
      "metadata": {
        "colab": {
          "base_uri": "https://localhost:8080/"
        },
        "id": "D86HuNCL4kON",
        "outputId": "422899e9-7849-438f-ee78-b29957058c6b"
      },
      "outputs": [
        {
          "output_type": "stream",
          "name": "stdout",
          "text": [
            "ANOVA for Airline: F = 1.38, p = 0.10615\n",
            "ANOVA for Stopovers: F = 4236.58, p = 0.00000\n",
            "ANOVA for Class: F = 7598.14, p = 0.00000\n",
            "ANOVA for Booking Source: F = 0.05, p = 0.94672\n",
            "ANOVA for Seasonality: F = 68.22, p = 0.00000\n"
          ]
        }
      ],
      "source": [
        "from scipy.stats import f_oneway\n",
        "\n",
        "cat_features = ['Airline', 'Stopovers', 'Class', 'Booking Source', 'Seasonality']\n",
        "\n",
        "for cat in cat_features:\n",
        "    groups = [group[\"Total Fare (BDT)\"].values for _, group in flight_f2_clean.groupby(cat)]\n",
        "    f_stat, p_val = f_oneway(*groups)\n",
        "    print(f\"ANOVA for {cat}: F = {f_stat:.2f}, p = {p_val:.5f}\")"
      ]
    },
    {
      "cell_type": "markdown",
      "metadata": {
        "id": "QmWqDWoe40Da"
      },
      "source": [
        "If `p < 0.05`, the categorical feature has a significant impact on Total Fare."
      ]
    },
    {
      "cell_type": "markdown",
      "metadata": {
        "id": "XA69Va8g48el"
      },
      "source": [
        "#### ANOVA for Time-Based Features (H7 & H8)"
      ]
    },
    {
      "cell_type": "markdown",
      "metadata": {
        "id": "hlS7CI-EIMTE"
      },
      "source": [
        "#### One-Way ANOVA for Temporal Features  \n",
        "Test whether the day of month or month of departure leads to significantly different average total fares.  \n"
      ]
    },
    {
      "cell_type": "code",
      "execution_count": null,
      "metadata": {
        "colab": {
          "base_uri": "https://localhost:8080/"
        },
        "id": "0c9TiHOc4yLI",
        "outputId": "f5d2b944-b124-4cba-8e1f-33a196e65332"
      },
      "outputs": [
        {
          "output_type": "stream",
          "name": "stdout",
          "text": [
            "ANOVA for Departure_Day: F = 1.18, p = 0.23337\n",
            "ANOVA for Departure_Month: F = 13.50, p = 0.00000\n"
          ]
        }
      ],
      "source": [
        "from scipy.stats import f_oneway\n",
        "\n",
        "time_cats = ['Departure_Day', 'Departure_Month']\n",
        "\n",
        "for time_col in time_cats:\n",
        "    groups = [group[\"Total Fare (BDT)\"].values for _, group in flight_f2_clean.groupby(time_col)]\n",
        "    f_stat, p_val = f_oneway(*groups)\n",
        "    print(f\"ANOVA for {time_col}: F = {f_stat:.2f}, p = {p_val:.5f}\")"
      ]
    },
    {
      "cell_type": "markdown",
      "source": [
        "### 7. What are the hypotheses testing?"
      ],
      "metadata": {
        "id": "NwhQMeE7TZ3c"
      }
    },
    {
      "cell_type": "markdown",
      "source": [
        "**What are the hypotheses testing?**\n",
        "\n",
        "Hypothesis testing is a formal statistical method used to make decisions or inferences about data.\n",
        "\n",
        "It helps you prove or disprove certain assumptions (hypotheses) you have about your dataset.\n",
        "\n",
        "In simple terms:\n",
        "\n",
        "    *  You start with a belief about the data (your hypothesis).\n",
        "    *  You collect evidence (data and calculations).\n",
        "    *  You test whether your belief is statistically supported or not.\n",
        "\n",
        "Each hypothesis (H1 to H12) is targeting a different aspect of the data. Some focus on data quality (duplicates, missing values, outliers), some on relationships (correlations, feature importance), and some on dimensionality reduction and clustering.\n",
        "\n",
        "**In this case:**\n",
        "\n",
        "Each hypothesis (H1 to H12) is making a specific claim about the dataset.\n",
        "You then use statistical tests (like Pearson correlation and ANOVA) to check if there is enough evidence to support or reject these claims.\n",
        "\n",
        "**Specifically:**\n",
        "\n",
        "For continuous variables (like fares), you test correlation between them.\n",
        "\n",
        "For categorical variables (like Airline, Class, Booking Source), you test whether group differences are significant using ANOVA.\n",
        "\n",
        "\n",
        "**The purpose of your hypotheses testing is to:**\n",
        "\n",
        "1. Assess Data Quality:\n",
        "\n",
        "(e.g., Are there duplicates? Are there missing values? Are there extreme outliers?)\n",
        "\n",
        "2. Understand Relationships:\n",
        "\n",
        "(e.g., Is Total Fare related more to Base Fare or Tax? Does departure time affect prices?)\n",
        "\n",
        "3. Validate Feature Importance:\n",
        "\n",
        "(e.g., Which variables (like Airline, Stopovers, Seasonality) influence fare variation?)\n",
        "\n",
        "4. Improve Data for Modeling:\n",
        "\n",
        "(e.g., Remove bad data, identify key factors that models should learn.)\n",
        "\n",
        "5. Prepare for Advanced Analysis:\n",
        "\n",
        "(e.g., Is dimensionality reduction via PCA reasonable based on the structure of the data?)"
      ],
      "metadata": {
        "id": "3KTCfKpOVAog"
      }
    },
    {
      "cell_type": "markdown",
      "metadata": {
        "id": "6TW-cX_i5XdH"
      },
      "source": [
        "## Step 10: Apply machine learning classifiers and compare the results"
      ]
    },
    {
      "cell_type": "markdown",
      "metadata": {
        "id": "2Fzu3_qyIMTE"
      },
      "source": [
        "### Encode Categorical & Assemble Feature Matrix  \n",
        "Convert selected categorical columns into one-hot vectors (ignoring unseen categories),  \n",
        "then concatenate with numeric fare features to form the full predictor matrix X and target y.  \n"
      ]
    },
    {
      "cell_type": "code",
      "execution_count": null,
      "metadata": {
        "id": "PImPTimNIMTF"
      },
      "outputs": [],
      "source": [
        "cat_cols = ['Airline', 'Stopovers', 'Class', 'Booking Source', 'Seasonality', 'Departure_Day', 'Departure_Month']\n",
        "\n",
        "encoder = OneHotEncoder(sparse_output=False, handle_unknown='ignore')\n",
        "encoded_cat = encoder.fit_transform(flight_f2_clean[cat_cols])\n",
        "\n",
        "X = np.concatenate([encoded_cat, flight_f2_clean[['Base Fare (BDT)', 'Tax & Surcharge (BDT)']].values], axis=1)\n",
        "y = flight_f2_clean['Total Fare (BDT)']"
      ]
    },
    {
      "cell_type": "markdown",
      "metadata": {
        "id": "UJSoyalUIMTF"
      },
      "source": [
        "### Split into Training & Test Sets  \n",
        "Use an 80/20 split with a fixed random state for reproducibility of model evaluation.  \n"
      ]
    },
    {
      "cell_type": "code",
      "execution_count": null,
      "metadata": {
        "id": "5mUMWwz2IMTF"
      },
      "outputs": [],
      "source": [
        "X_train, X_test, y_train, y_test = train_test_split(X, y, test_size=0.2, random_state=42)"
      ]
    },
    {
      "cell_type": "markdown",
      "metadata": {
        "id": "19fgCYXPIMTF"
      },
      "source": [
        "### Define and Fit Regression Models  \n",
        "Instantiate four algorithms—Linear Regression, Decision Tree, Random Forest, and XGBoost—  \n",
        "then train each on the training data.  \n"
      ]
    },
    {
      "cell_type": "code",
      "execution_count": null,
      "metadata": {
        "id": "MiSS_-UlIMTF"
      },
      "outputs": [],
      "source": [
        "from xgboost import XGBRegressor\n",
        "\n",
        "models = {\n",
        "    \"Linear Regression\": LinearRegression(),\n",
        "    \"Decision Tree\": DecisionTreeRegressor(random_state=42),\n",
        "    \"Random Forest\": RandomForestRegressor(random_state=42),\n",
        "    \"XGBoost\": XGBRegressor(random_state=42, verbosity=0)\n",
        "}"
      ]
    },
    {
      "cell_type": "markdown",
      "metadata": {
        "id": "GkbvEZtGIMTF"
      },
      "source": [
        "### Evaluate Model Performance  \n",
        "Predict on the test set and compute MAE, MSE, RMSE, and R² for each model to compare accuracy.  \n"
      ]
    },
    {
      "cell_type": "code",
      "execution_count": null,
      "metadata": {
        "colab": {
          "base_uri": "https://localhost:8080/"
        },
        "id": "1SKVkjiY4_Ae",
        "outputId": "ae88a39d-5654-4d04-b369-1ed66bcb718f"
      },
      "outputs": [
        {
          "output_type": "stream",
          "name": "stdout",
          "text": [
            "                           MAE           MSE         RMSE  R2 Score\n",
            "Linear Regression  1099.631411  9.483375e+06  3079.508904  0.998204\n",
            "Decision Tree       947.630649  1.954250e+07  4420.690092  0.996299\n",
            "Random Forest       907.543878  1.055347e+07  3248.609993  0.998002\n",
            "XGBoost            1043.888731  1.040891e+07  3226.284967  0.998029\n"
          ]
        }
      ],
      "source": [
        "from sklearn.metrics import mean_absolute_error, mean_squared_error, r2_score\n",
        "for name, model in models.items():\n",
        "    model.fit(X_train, y_train)\n",
        "\n",
        "# 2) Predict & evaluate\n",
        "results = {}\n",
        "for name, model in models.items():\n",
        "    y_pred = model.predict(X_test)\n",
        "    results[name] = {\n",
        "        'MAE': mean_absolute_error(y_test, y_pred),\n",
        "        'MSE': mean_squared_error(y_test, y_pred),\n",
        "        'RMSE': np.sqrt(mean_squared_error(y_test, y_pred)),\n",
        "        'R2 Score': r2_score(y_test, y_pred)\n",
        "    }\n",
        "\n",
        "results_df = pd.DataFrame(results).T\n",
        "print(results_df)"
      ]
    },
    {
      "cell_type": "markdown",
      "source": [
        "## Exploratory Data Analysis (EDA)"
      ],
      "metadata": {
        "id": "w_WsSWkRPxmx"
      }
    },
    {
      "cell_type": "markdown",
      "source": [
        "### 1. What question(s) are we trying to solve?\n"
      ],
      "metadata": {
        "id": "kS9dUjhwP8nu"
      }
    },
    {
      "cell_type": "markdown",
      "source": [
        "**1.1 How are ticket prices spread out?**\n",
        "\n",
        "The ticket prices are distributed across different ranges, as follows:\n",
        "\n",
        "Base fares range from 8,856.32 BDT to 85,722.93 BDT.\n",
        "\n",
        "Taxes and fees range from 200.0 BDT to 17,513.05 BDT.\n",
        "\n",
        "Total fares range from 9,602.70 BDT to 103,800.91 BDT.\n",
        "\n",
        "Helping with decisions: If some prices aren't popular, the company can change its pricing or offer special deals. For example, offering discounts for lower prices or premium services for higher prices.\n",
        "\n",
        "By analyzing these patterns, the company can improve pricing strategies, target the right customers, and increase profits.\n",
        "\n",
        "\n",
        "\n",
        "\n",
        "**How do unusually high ticket prices affect overall pricing?**\n",
        "\n",
        "Box plots show that most ticket prices are in a normal range, but a few very high prices (like over 85,722.93 BDT for base fare and 103,800.91 BDT for total fare) can make the average look higher than what most customers actually pay.\n",
        "\n",
        "Why is this a problem?\n",
        "\n",
        "It can lead to:\n",
        "\n",
        "Overestimating revenue\n",
        "\n",
        "Setting prices too high\n",
        "\n",
        "Making wrong marketing decisions\n",
        "\n",
        "\n",
        "\n",
        "**1.3 What do ticket prices look like after removing extremely high values?**\n",
        "\n",
        "\n",
        "\n",
        "After removing extreme prices, box plots show the most common price ranges:\n",
        "\n",
        "**Base Fare:** The middle 50% of prices are between approximately 8,856.32 BDT and 85,722.93 BDT, meaning most trips have a base fare within this range.\n",
        "\n",
        "**Tax & Surcharge:** The middle 50% of values are between approximately 200.0 BDT and 17,513.05 BDT, indicating most trips have taxes and surcharges within this range.\n",
        "\n",
        "**Total Fare:** The middle 50% of prices are between approximately 9,602.70 BDT and 103,800.91 BDT, showing that the total fare for most trips falls within this range.\n",
        "\n",
        "\n",
        "\n",
        "**1.4. What are the main factors affecting the total fare and how can we improve our pricing strategies based on them?**\n",
        "\n",
        "Based on the analysis, here are the main factors affecting the total fare:\n",
        "\n",
        "Base Fare:\n",
        "\n",
        "The correlation between \"Base Fare\" and \"Total Fare\" is r = 0.9985, which means changes in the base fare strongly affect the total fare.\n",
        "\n",
        "Action: Adjust the base fare based on demand and seasonality (e.g., raise prices during peak times and lower them during off-peak times).\n",
        "\n",
        "Tax & Surcharge:\n",
        "\n",
        "The correlation between \"Tax & Surcharge\" and \"Total Fare\" is r = 0.9827, showing that taxes and extra charges impact the total fare significantly.\n",
        "\n",
        "Action: Optimize taxes and surcharges, and offer discounts on these fees during off-peak periods or for certain customer groups.\n",
        "\n",
        "Departure Day:\n",
        "\n",
        "The correlation between \"Departure Day\" and \"Total Fare\" is r = -0.0035, which means the departure day has little to no effect on the total fare.\n",
        "\n",
        "Action: Don’t focus on the departure day when setting prices since it doesn’t affect the fare much.\n",
        "\n",
        "Departure Month:\n",
        "\n",
        "The month of departure shouldn't be a major factor in setting prices, but trends in demand can still be monitored.\n",
        "\n",
        "\n",
        "\n",
        "**1.5. Which factors affect the total fare and how can we adjust pricing to maximize revenue?**\n",
        "\n",
        "Answer:\n",
        "\n",
        "Based on the analysis, the factors that impact the total fare are:\n",
        "\n",
        "Stopovers: Flights with stopovers have a strong impact on fare pricing.\n",
        "\n",
        "Action: Offer lower fares for direct flights and higher fares for stopovers.\n",
        "\n",
        "Class: Premium classes (business, first class) significantly affect fare prices.\n",
        "\n",
        "Action: Price business class higher than economy class.\n",
        "\n",
        "Seasonality: Fares vary by season, with peak seasons having higher prices.\n",
        "\n",
        "Action: Increase prices during peak seasons and offer discounts during off-peak periods.\n",
        "\n",
        "Example:\n",
        "\n",
        "Direct Flight: $300\n",
        "\n",
        "Flight with Stopover: $350\n",
        "\n",
        "Economy Class: $250\n",
        "\n",
        "Business Class: $700\n",
        "\n",
        "Holiday Season Fare: $400\n",
        "\n",
        "Off-Peak Season Fare: $250\n",
        "\n",
        "\n",
        "\n",
        "**1.6. How do departure day and departure month affect the total fare, and how should we adjust pricing?**\n",
        "\n",
        "Answer:\n",
        "\n",
        "Departure Day:\n",
        "\n",
        "The analysis shows that the departure day does not significantly impact the total fare.\n",
        "\n",
        "Action: No need to adjust pricing based on the departure day.\n",
        "\n",
        "Departure Month:\n",
        "\n",
        "The departure month significantly affects the total fare.\n",
        "\n",
        "Action: Adjust prices based on the month of departure. For example, prices can be higher during peak seasons and holidays, while discounts can be offered during off-peak months.\n",
        "\n",
        "Example:\n",
        "\n",
        "If prices are normally\n",
        "\n",
        "$300\n",
        "\n",
        "in off-peak months, they can increase to $350 during peak months like holidays.\n",
        "\n",
        "\n",
        "**1.7. Can we predict the ticket price based on different factors?**\n",
        "\n",
        "Answer:\n",
        "\n",
        "Yes, using trained models, we can predict the ticket price based on factors like flight class, number of stopovers, seasonality, airline, taxes, and base fare. These predictions help in setting accurate and dynamic prices."
      ],
      "metadata": {
        "id": "c5Zss992R7tL"
      }
    },
    {
      "cell_type": "markdown",
      "source": [
        "### 2. What kind of data do we have and how do we treat different types?"
      ],
      "metadata": {
        "id": "S9MxwQsXR918"
      }
    },
    {
      "cell_type": "markdown",
      "source": [
        "**Categorical Data** (e.g., Airline, Source, Destination, Class, etc.): These are non-numeric and can be encoded into numerical values using techniques like One-Hot Encoding or Label Encoding.\n",
        "\n",
        "**Date/Time Data** (e.g., Departure Date & Time, Arrival Date & Time): These should be converted into a datetime format to extract features like day of the week, hour, etc.\n",
        "\n",
        "**Numerical Data** (e.g., Duration, Base Fare, Tax & Surcharge, Total Fare, Days Before Departure): These can be analyzed directly using statistical methods and used in machine learning models for regression tasks.\n"
      ],
      "metadata": {
        "id": "QCs5g0JQSEZE"
      }
    },
    {
      "cell_type": "markdown",
      "source": [
        "### 3. What is the descriptive summary?"
      ],
      "metadata": {
        "id": "ANpEH3XGSMkK"
      }
    },
    {
      "cell_type": "markdown",
      "source": [
        "Count: The number of records in the dataset.\n",
        "\n",
        "Example: There are 57,000 records for Base Fare (BDT).\n",
        "\n",
        "Mean: The average value of the data.\n",
        "\n",
        "Example: The average Base Fare (BDT) is 58,899.56 BDT.\n",
        "\n",
        "Standard Deviation (STD): How much the data varies from the mean.\n",
        "\n",
        "Example: The standard deviation for Base Fare (BDT) is 68,840.61 BDT, indicating high variation in ticket prices.\n",
        "\n",
        "Min: The smallest value in the dataset.\n",
        "\n",
        "Example: The minimum Base Fare (BDT) is 1,600.98 BDT.\n",
        "\n",
        "25th Percentile (Q1): The value below which 25% of the data points fall.\n",
        "\n",
        "Example: 25% of flights have a Base Fare (BDT) lower than 8,856.32 BDT.\n",
        "\n",
        "Median (50th Percentile): The middle value, where half the data points are lower and half are higher.\n",
        "\n",
        "Example: The median Base Fare (BDT) is 31,615.99 BDT, meaning 50% of the fares are below and 50% are above this value.\n",
        "\n",
        "75th Percentile (Q3): The value below which 75% of the data points fall.\n",
        "\n",
        "Example: 75% of flights have a Base Fare (BDT) lower than 85,722.93 BDT.\n",
        "\n",
        "Max: The largest value in the dataset.\n",
        "\n",
        "Example: The maximum Base Fare (BDT) is 449,222.93 BDT."
      ],
      "metadata": {
        "id": "poChkqk1SUZi"
      }
    },
    {
      "cell_type": "markdown",
      "source": [
        "### 4. What are the missing data and how are we going to handle them?"
      ],
      "metadata": {
        "id": "SHtRAKemSYdE"
      }
    },
    {
      "cell_type": "markdown",
      "source": [
        "In our Bangladesh Flight Price dataset there are no missing values (all features are fully populated). However, it's important to understand how we would handle missing data if it were present.\n",
        "\n",
        "**MCAR (Missing Completely At Random):**\n",
        "\n",
        "Handling Method: Deletion (Listwise or Pairwise)\n",
        "\n",
        "You can remove rows with missing data because the missingness is random and not related to other values.\n",
        "\n",
        "**MAR (Missing At Random):**\n",
        "\n",
        "Handling Method: Simple Imputation (Mean/Median/Mode) or Predictive Imputation (KNN/Regression)\n",
        "\n",
        "Since the missingness is related to observed data, you can impute missing values based on other variables or use predictive models.\n",
        "\n",
        "**MNAR (Missing Not At Random):**\n",
        "\n",
        "Handling Method: Model-Based Methods (Tree-based models like XGBoost) or Multiple Imputation\n",
        "\n",
        "For this type of missing data, it's important to use more advanced methods like tree-based models or multiple imputation to account for the missingness itself."
      ],
      "metadata": {
        "id": "fR5XE-ZWShJ9"
      }
    },
    {
      "cell_type": "markdown",
      "source": [
        "### 5. What are the outliers, why we care about them and how are we going to handle them?"
      ],
      "metadata": {
        "id": "mDXjif2nSot_"
      }
    },
    {
      "cell_type": "markdown",
      "source": [
        "**Outliers:**\n",
        "\n",
        "are extreme values that differ greatly from most other data points. They can skew analysis and affect model accuracy, so it's important to identify and manage them to ensure reliable results.\n",
        "\n",
        "\n",
        "**Example of Outliers and How to Handle Them:**\n",
        "\n",
        "Let's take the following data for Base Fare (BDT), Tax & Surcharge (BDT), and Total Fare (BDT) before and after handling outliers:\n",
        "\n",
        "**Before Handling Outliers:**\n",
        "\n",
        "Base Fare (BDT): Min = 1600.98, Max = 449222.93\n",
        "\n",
        "Tax & Surcharge (BDT): Min = 200.00, Max = 73383.44\n",
        "\n",
        "Total Fare (BDT): Min = 1800.98, Max = 558987.33\n",
        "\n",
        "**Identifying Outliers:**\n",
        "\n",
        "We use IQR (Interquartile Range) to identify outliers:\n",
        "\n",
        "Base Fare (BDT): Outliers may be present above 201,022.85 or below 1,600.98.\n",
        "\n",
        "Tax & Surcharge (BDT): Outliers may be above 43,482.62 or below 200.00.\n",
        "\n",
        "Total Fare (BDT): Outliers may be above 245,098.22 or below 1,800.98.\n",
        "\n",
        "These extreme values are far higher than the majority of other data points.\n",
        "\n",
        "**After Handling Outliers:**\n",
        "\n",
        "Base Fare (BDT): Min = 1600.98, Max = 201022.85\n",
        "\n",
        "Tax & Surcharge (BDT): Min = 200.00, Max = 43482.62\n",
        "\n",
        "Total Fare (BDT): Min = 1800.98, Max = 245098.22\n",
        "\n",
        "**Handling Methods Applied:**\n",
        "\n",
        "Removal:\n",
        "\n",
        "Outliers above the maximum threshold (e.g., 449,222.93 for Base Fare and 558,987.33 for Total Fare) are removed from the dataset.\n",
        "\n",
        "**Transformation (if needed):**\n",
        "\n",
        "If outliers still exist after removal, applying a logarithmic transformation could reduce their effect.\n",
        "\n",
        "**Why Handling Outliers is Important:**\n",
        "\n",
        "Removing or transforming outliers makes the dataset more representative of typical data, ensuring that analysis and models aren't distorted by extreme values.\n",
        "\n",
        "For example, after handling outliers, the Base Fare (BDT) ranges from 1600.98 to 201022.85, which better reflects typical prices compared to the original, wider range."
      ],
      "metadata": {
        "id": "WxrHHtlHSv4o"
      }
    },
    {
      "cell_type": "markdown",
      "source": [
        "### 6. How can we add, change or remove features to get more out of the data?"
      ],
      "metadata": {
        "id": "K4zYGeIwSvL1"
      }
    },
    {
      "cell_type": "markdown",
      "source": [
        "**In our case, we made the following changes to improve the dataset:**\n",
        "\n",
        "**Removed unnecessary features:**\n",
        "\n",
        "We removed the \"Source Name\" and \"Destination Name\" columns and kept only the columns with airport codes.\n",
        "\n",
        "This was because the full airport names didn't impact the analysis, and keeping only the airport codes helped simplify the dataset.\n",
        "\n",
        "**Added new features:**\n",
        "\n",
        "We added the \"Departure_Day\" and \"Departure_Month\" columns. These were added to help analyze the days and months with higher or lower flight demand.\n",
        "\n",
        "This allows us to identify peak travel days and months, helping to understand when flights experience more pressure and when they're less busy.\n"
      ],
      "metadata": {
        "id": "q2z0YbJHTOSs"
      }
    }
  ],
  "metadata": {
    "colab": {
      "provenance": [],
      "collapsed_sections": [
        "avEHsvIU17yE",
        "gjML5mW32K0K",
        "NwhQMeE7TZ3c",
        "6TW-cX_i5XdH",
        "2Fzu3_qyIMTE",
        "UJSoyalUIMTF",
        "19fgCYXPIMTF",
        "GkbvEZtGIMTF",
        "S9MxwQsXR918",
        "SHtRAKemSYdE",
        "mDXjif2nSot_",
        "K4zYGeIwSvL1"
      ]
    },
    "kernelspec": {
      "display_name": "Python 3 (ipykernel)",
      "language": "python",
      "name": "python3"
    },
    "language_info": {
      "codemirror_mode": {
        "name": "ipython",
        "version": 3
      },
      "file_extension": ".py",
      "mimetype": "text/x-python",
      "name": "python",
      "nbconvert_exporter": "python",
      "pygments_lexer": "ipython3",
      "version": "3.13.2"
    }
  },
  "nbformat": 4,
  "nbformat_minor": 0
}